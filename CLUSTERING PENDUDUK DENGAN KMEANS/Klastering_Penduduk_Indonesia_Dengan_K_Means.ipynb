{
  "nbformat": 4,
  "nbformat_minor": 0,
  "metadata": {
    "colab": {
      "name": "Klastering Penduduk Indonesia Dengan K-Means.ipynb",
      "provenance": [],
      "collapsed_sections": []
    },
    "kernelspec": {
      "name": "python3",
      "display_name": "Python 3"
    }
  },
  "cells": [
    {
      "cell_type": "markdown",
      "metadata": {
        "id": "SHf5S56uMWsx",
        "colab_type": "text"
      },
      "source": [
        "Kali ini kita akan re structure journal IOP SCIENCE yang membahas mengenai peng-clusteran provinsi di Indonesia. Kali ini kita akan menggunakan KMeans Clustering Method sebagai algoritmanya sesuai dengan jurnal yang ada. \n",
        "\n",
        "# Import Library yang akan digunakan"
      ]
    },
    {
      "cell_type": "code",
      "metadata": {
        "id": "qnL6SHsJMPae",
        "colab_type": "code",
        "colab": {}
      },
      "source": [
        "import pandas as pd\n",
        "import numpy as np\n",
        "import matplotlib.pyplot as plt\n",
        "from sklearn.cluster import KMeans"
      ],
      "execution_count": null,
      "outputs": []
    },
    {
      "cell_type": "code",
      "metadata": {
        "id": "rUeQtv8xPZpW",
        "colab_type": "code",
        "colab": {
          "resources": {
            "http://localhost:8080/nbextensions/google.colab/files.js": {
              "data": "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",
              "ok": true,
              "headers": [
                [
                  "content-type",
                  "application/javascript"
                ]
              ],
              "status": 200,
              "status_text": ""
            }
          },
          "base_uri": "https://localhost:8080/",
          "height": 74
        },
        "outputId": "26dcf43b-c2e9-497e-b774-37c66adb6cfb"
      },
      "source": [
        "from google.colab import files\n",
        "upload = files.upload()"
      ],
      "execution_count": null,
      "outputs": [
        {
          "output_type": "display_data",
          "data": {
            "text/html": [
              "\n",
              "     <input type=\"file\" id=\"files-01a44d8f-6664-4564-bcff-82bddc3f82e6\" name=\"files[]\" multiple disabled />\n",
              "     <output id=\"result-01a44d8f-6664-4564-bcff-82bddc3f82e6\">\n",
              "      Upload widget is only available when the cell has been executed in the\n",
              "      current browser session. Please rerun this cell to enable.\n",
              "      </output>\n",
              "      <script src=\"/nbextensions/google.colab/files.js\"></script> "
            ],
            "text/plain": [
              "<IPython.core.display.HTML object>"
            ]
          },
          "metadata": {
            "tags": []
          }
        },
        {
          "output_type": "stream",
          "text": [
            "Saving prov.csv to prov.csv\n"
          ],
          "name": "stdout"
        }
      ]
    },
    {
      "cell_type": "code",
      "metadata": {
        "id": "Wy0sD3vQNgOH",
        "colab_type": "code",
        "colab": {}
      },
      "source": [
        "data = pd.read_csv('prov.csv')"
      ],
      "execution_count": null,
      "outputs": []
    },
    {
      "cell_type": "code",
      "metadata": {
        "id": "SLMkTaSdO3TC",
        "colab_type": "code",
        "colab": {
          "base_uri": "https://localhost:8080/",
          "height": 1000
        },
        "outputId": "2a16d48d-45a3-4248-c950-891865212402"
      },
      "source": [
        "data"
      ],
      "execution_count": null,
      "outputs": [
        {
          "output_type": "execute_result",
          "data": {
            "text/html": [
              "<div>\n",
              "<style scoped>\n",
              "    .dataframe tbody tr th:only-of-type {\n",
              "        vertical-align: middle;\n",
              "    }\n",
              "\n",
              "    .dataframe tbody tr th {\n",
              "        vertical-align: top;\n",
              "    }\n",
              "\n",
              "    .dataframe thead th {\n",
              "        text-align: right;\n",
              "    }\n",
              "</style>\n",
              "<table border=\"1\" class=\"dataframe\">\n",
              "  <thead>\n",
              "    <tr style=\"text-align: right;\">\n",
              "      <th></th>\n",
              "      <th>PROVINSI</th>\n",
              "      <th>KEPADATANPENDUDUK</th>\n",
              "      <th>TINGKATPARTISIPASISEKOLAH</th>\n",
              "      <th>TINGKATPENGANGGURANTERBUKA</th>\n",
              "    </tr>\n",
              "  </thead>\n",
              "  <tbody>\n",
              "    <tr>\n",
              "      <th>0</th>\n",
              "      <td>ACEH</td>\n",
              "      <td>5189500</td>\n",
              "      <td>98.09</td>\n",
              "      <td>6.36</td>\n",
              "    </tr>\n",
              "    <tr>\n",
              "      <th>1</th>\n",
              "      <td>SUMATERAUTARA</td>\n",
              "      <td>14262100</td>\n",
              "      <td>96.60</td>\n",
              "      <td>5.56</td>\n",
              "    </tr>\n",
              "    <tr>\n",
              "      <th>2</th>\n",
              "      <td>SUMATERABARAT</td>\n",
              "      <td>5321500</td>\n",
              "      <td>96.29</td>\n",
              "      <td>5.55</td>\n",
              "    </tr>\n",
              "    <tr>\n",
              "      <th>3</th>\n",
              "      <td>RIAU</td>\n",
              "      <td>6657900</td>\n",
              "      <td>94.73</td>\n",
              "      <td>6.30</td>\n",
              "    </tr>\n",
              "    <tr>\n",
              "      <th>4</th>\n",
              "      <td>JAMBI</td>\n",
              "      <td>3515000</td>\n",
              "      <td>95.89</td>\n",
              "      <td>3.86</td>\n",
              "    </tr>\n",
              "    <tr>\n",
              "      <th>5</th>\n",
              "      <td>SUMATERASELATAN</td>\n",
              "      <td>8267000</td>\n",
              "      <td>94.01</td>\n",
              "      <td>4.23</td>\n",
              "    </tr>\n",
              "    <tr>\n",
              "      <th>6</th>\n",
              "      <td>BENGKULU</td>\n",
              "      <td>1934300</td>\n",
              "      <td>92.70</td>\n",
              "      <td>3.51</td>\n",
              "    </tr>\n",
              "    <tr>\n",
              "      <th>7</th>\n",
              "      <td>LAMPUNG</td>\n",
              "      <td>8289600</td>\n",
              "      <td>94.26</td>\n",
              "      <td>4.06</td>\n",
              "    </tr>\n",
              "    <tr>\n",
              "      <th>8</th>\n",
              "      <td>KEPBANGKA</td>\n",
              "      <td>1430900</td>\n",
              "      <td>92.41</td>\n",
              "      <td>3.65</td>\n",
              "    </tr>\n",
              "    <tr>\n",
              "      <th>9</th>\n",
              "      <td>KEPRIAU</td>\n",
              "      <td>2082700</td>\n",
              "      <td>99.08</td>\n",
              "      <td>7.12</td>\n",
              "    </tr>\n",
              "    <tr>\n",
              "      <th>10</th>\n",
              "      <td>DKIJAKARTA</td>\n",
              "      <td>10374200</td>\n",
              "      <td>97.64</td>\n",
              "      <td>6.24</td>\n",
              "    </tr>\n",
              "    <tr>\n",
              "      <th>11</th>\n",
              "      <td>JAWABARAT</td>\n",
              "      <td>48037600</td>\n",
              "      <td>93.77</td>\n",
              "      <td>8.17</td>\n",
              "    </tr>\n",
              "    <tr>\n",
              "      <th>12</th>\n",
              "      <td>JAWATENGAH</td>\n",
              "      <td>34257900</td>\n",
              "      <td>95.48</td>\n",
              "      <td>4.51</td>\n",
              "    </tr>\n",
              "    <tr>\n",
              "      <th>13</th>\n",
              "      <td>DIY</td>\n",
              "      <td>3762200</td>\n",
              "      <td>99.63</td>\n",
              "      <td>3.35</td>\n",
              "    </tr>\n",
              "    <tr>\n",
              "      <th>14</th>\n",
              "      <td>JAWATIMUR</td>\n",
              "      <td>3929300</td>\n",
              "      <td>99.77</td>\n",
              "      <td>3.99</td>\n",
              "    </tr>\n",
              "    <tr>\n",
              "      <th>15</th>\n",
              "      <td>BANTEN</td>\n",
              "      <td>12448200</td>\n",
              "      <td>95.67</td>\n",
              "      <td>8.52</td>\n",
              "    </tr>\n",
              "    <tr>\n",
              "      <th>16</th>\n",
              "      <td>BALI</td>\n",
              "      <td>4246500</td>\n",
              "      <td>97.72</td>\n",
              "      <td>1.37</td>\n",
              "    </tr>\n",
              "    <tr>\n",
              "      <th>17</th>\n",
              "      <td>NTB</td>\n",
              "      <td>4955600</td>\n",
              "      <td>97.69</td>\n",
              "      <td>3.72</td>\n",
              "    </tr>\n",
              "    <tr>\n",
              "      <th>18</th>\n",
              "      <td>NTT</td>\n",
              "      <td>5287300</td>\n",
              "      <td>94.76</td>\n",
              "      <td>3.01</td>\n",
              "    </tr>\n",
              "    <tr>\n",
              "      <th>19</th>\n",
              "      <td>KALBAR</td>\n",
              "      <td>4932500</td>\n",
              "      <td>92.51</td>\n",
              "      <td>4.26</td>\n",
              "    </tr>\n",
              "    <tr>\n",
              "      <th>20</th>\n",
              "      <td>KALTENG</td>\n",
              "      <td>2605300</td>\n",
              "      <td>93.37</td>\n",
              "      <td>4.01</td>\n",
              "    </tr>\n",
              "    <tr>\n",
              "      <th>21</th>\n",
              "      <td>KALSEL</td>\n",
              "      <td>4119800</td>\n",
              "      <td>92.33</td>\n",
              "      <td>4.50</td>\n",
              "    </tr>\n",
              "    <tr>\n",
              "      <th>22</th>\n",
              "      <td>KALTIM</td>\n",
              "      <td>3575400</td>\n",
              "      <td>98.79</td>\n",
              "      <td>6.60</td>\n",
              "    </tr>\n",
              "    <tr>\n",
              "      <th>23</th>\n",
              "      <td>KALUT</td>\n",
              "      <td>691100</td>\n",
              "      <td>96.04</td>\n",
              "      <td>5.22</td>\n",
              "    </tr>\n",
              "    <tr>\n",
              "      <th>24</th>\n",
              "      <td>SULAWESIUTARA</td>\n",
              "      <td>2461000</td>\n",
              "      <td>94.91</td>\n",
              "      <td>6.86</td>\n",
              "    </tr>\n",
              "    <tr>\n",
              "      <th>25</th>\n",
              "      <td>SULAWESITENGAH</td>\n",
              "      <td>2966300</td>\n",
              "      <td>92.41</td>\n",
              "      <td>3.43</td>\n",
              "    </tr>\n",
              "    <tr>\n",
              "      <th>26</th>\n",
              "      <td>SULSEL</td>\n",
              "      <td>8690300</td>\n",
              "      <td>93.09</td>\n",
              "      <td>5.34</td>\n",
              "    </tr>\n",
              "    <tr>\n",
              "      <th>27</th>\n",
              "      <td>SULAWESITENG</td>\n",
              "      <td>2602400</td>\n",
              "      <td>94.08</td>\n",
              "      <td>3.26</td>\n",
              "    </tr>\n",
              "    <tr>\n",
              "      <th>28</th>\n",
              "      <td>GORONTALO</td>\n",
              "      <td>1168200</td>\n",
              "      <td>91.23</td>\n",
              "      <td>4.03</td>\n",
              "    </tr>\n",
              "    <tr>\n",
              "      <th>29</th>\n",
              "      <td>SULAWESIBARAT</td>\n",
              "      <td>1331000</td>\n",
              "      <td>89.88</td>\n",
              "      <td>3.16</td>\n",
              "    </tr>\n",
              "    <tr>\n",
              "      <th>30</th>\n",
              "      <td>MALUKU</td>\n",
              "      <td>1744700</td>\n",
              "      <td>96.86</td>\n",
              "      <td>7.27</td>\n",
              "    </tr>\n",
              "    <tr>\n",
              "      <th>31</th>\n",
              "      <td>MALUKUUTARA</td>\n",
              "      <td>1209300</td>\n",
              "      <td>97.24</td>\n",
              "      <td>4.77</td>\n",
              "    </tr>\n",
              "    <tr>\n",
              "      <th>32</th>\n",
              "      <td>PAPUABARAT</td>\n",
              "      <td>915400</td>\n",
              "      <td>96.92</td>\n",
              "      <td>6.30</td>\n",
              "    </tr>\n",
              "    <tr>\n",
              "      <th>33</th>\n",
              "      <td>PAPUA</td>\n",
              "      <td>3265200</td>\n",
              "      <td>79.09</td>\n",
              "      <td>3.20</td>\n",
              "    </tr>\n",
              "  </tbody>\n",
              "</table>\n",
              "</div>"
            ],
            "text/plain": [
              "           PROVINSI  ...  TINGKATPENGANGGURANTERBUKA\n",
              "0              ACEH  ...                        6.36\n",
              "1     SUMATERAUTARA  ...                        5.56\n",
              "2     SUMATERABARAT  ...                        5.55\n",
              "3              RIAU  ...                        6.30\n",
              "4             JAMBI  ...                        3.86\n",
              "5   SUMATERASELATAN  ...                        4.23\n",
              "6          BENGKULU  ...                        3.51\n",
              "7           LAMPUNG  ...                        4.06\n",
              "8         KEPBANGKA  ...                        3.65\n",
              "9           KEPRIAU  ...                        7.12\n",
              "10       DKIJAKARTA  ...                        6.24\n",
              "11        JAWABARAT  ...                        8.17\n",
              "12       JAWATENGAH  ...                        4.51\n",
              "13              DIY  ...                        3.35\n",
              "14        JAWATIMUR  ...                        3.99\n",
              "15           BANTEN  ...                        8.52\n",
              "16             BALI  ...                        1.37\n",
              "17              NTB  ...                        3.72\n",
              "18              NTT  ...                        3.01\n",
              "19           KALBAR  ...                        4.26\n",
              "20          KALTENG  ...                        4.01\n",
              "21           KALSEL  ...                        4.50\n",
              "22           KALTIM  ...                        6.60\n",
              "23            KALUT  ...                        5.22\n",
              "24    SULAWESIUTARA  ...                        6.86\n",
              "25   SULAWESITENGAH  ...                        3.43\n",
              "26           SULSEL  ...                        5.34\n",
              "27     SULAWESITENG  ...                        3.26\n",
              "28        GORONTALO  ...                        4.03\n",
              "29    SULAWESIBARAT  ...                        3.16\n",
              "30           MALUKU  ...                        7.27\n",
              "31      MALUKUUTARA  ...                        4.77\n",
              "32       PAPUABARAT  ...                        6.30\n",
              "33            PAPUA  ...                        3.20\n",
              "\n",
              "[34 rows x 4 columns]"
            ]
          },
          "metadata": {
            "tags": []
          },
          "execution_count": 4
        }
      ]
    },
    {
      "cell_type": "code",
      "metadata": {
        "id": "DlaDOhsvPtBu",
        "colab_type": "code",
        "colab": {
          "base_uri": "https://localhost:8080/",
          "height": 68
        },
        "outputId": "d237b221-be6d-4847-e935-bd691738f428"
      },
      "source": [
        "data.keys()"
      ],
      "execution_count": null,
      "outputs": [
        {
          "output_type": "execute_result",
          "data": {
            "text/plain": [
              "Index(['PROVINSI', 'KEPADATANPENDUDUK', 'TINGKATPARTISIPASISEKOLAH',\n",
              "       'TINGKATPENGANGGURANTERBUKA'],\n",
              "      dtype='object')"
            ]
          },
          "metadata": {
            "tags": []
          },
          "execution_count": 5
        }
      ]
    },
    {
      "cell_type": "code",
      "metadata": {
        "id": "2GxIbW3kPwBt",
        "colab_type": "code",
        "colab": {
          "base_uri": "https://localhost:8080/",
          "height": 297
        },
        "outputId": "fb45982a-6e65-4eb9-8108-bf8e9a388d5b"
      },
      "source": [
        "data.describe()"
      ],
      "execution_count": null,
      "outputs": [
        {
          "output_type": "execute_result",
          "data": {
            "text/html": [
              "<div>\n",
              "<style scoped>\n",
              "    .dataframe tbody tr th:only-of-type {\n",
              "        vertical-align: middle;\n",
              "    }\n",
              "\n",
              "    .dataframe tbody tr th {\n",
              "        vertical-align: top;\n",
              "    }\n",
              "\n",
              "    .dataframe thead th {\n",
              "        text-align: right;\n",
              "    }\n",
              "</style>\n",
              "<table border=\"1\" class=\"dataframe\">\n",
              "  <thead>\n",
              "    <tr style=\"text-align: right;\">\n",
              "      <th></th>\n",
              "      <th>KEPADATANPENDUDUK</th>\n",
              "      <th>TINGKATPARTISIPASISEKOLAH</th>\n",
              "      <th>TINGKATPENGANGGURANTERBUKA</th>\n",
              "    </tr>\n",
              "  </thead>\n",
              "  <tbody>\n",
              "    <tr>\n",
              "      <th>count</th>\n",
              "      <td>3.400000e+01</td>\n",
              "      <td>34.000000</td>\n",
              "      <td>34.000000</td>\n",
              "    </tr>\n",
              "    <tr>\n",
              "      <th>mean</th>\n",
              "      <td>6.662565e+06</td>\n",
              "      <td>94.851176</td>\n",
              "      <td>4.861471</td>\n",
              "    </tr>\n",
              "    <tr>\n",
              "      <th>std</th>\n",
              "      <td>9.494581e+06</td>\n",
              "      <td>3.735422</td>\n",
              "      <td>1.646552</td>\n",
              "    </tr>\n",
              "    <tr>\n",
              "      <th>min</th>\n",
              "      <td>6.911000e+05</td>\n",
              "      <td>79.090000</td>\n",
              "      <td>1.370000</td>\n",
              "    </tr>\n",
              "    <tr>\n",
              "      <th>25%</th>\n",
              "      <td>2.177275e+06</td>\n",
              "      <td>93.160000</td>\n",
              "      <td>3.667500</td>\n",
              "    </tr>\n",
              "    <tr>\n",
              "      <th>50%</th>\n",
              "      <td>3.845750e+06</td>\n",
              "      <td>95.195000</td>\n",
              "      <td>4.380000</td>\n",
              "    </tr>\n",
              "    <tr>\n",
              "      <th>75%</th>\n",
              "      <td>6.323800e+06</td>\n",
              "      <td>97.160000</td>\n",
              "      <td>6.285000</td>\n",
              "    </tr>\n",
              "    <tr>\n",
              "      <th>max</th>\n",
              "      <td>4.803760e+07</td>\n",
              "      <td>99.770000</td>\n",
              "      <td>8.520000</td>\n",
              "    </tr>\n",
              "  </tbody>\n",
              "</table>\n",
              "</div>"
            ],
            "text/plain": [
              "       KEPADATANPENDUDUK  TINGKATPARTISIPASISEKOLAH  TINGKATPENGANGGURANTERBUKA\n",
              "count       3.400000e+01                  34.000000                   34.000000\n",
              "mean        6.662565e+06                  94.851176                    4.861471\n",
              "std         9.494581e+06                   3.735422                    1.646552\n",
              "min         6.911000e+05                  79.090000                    1.370000\n",
              "25%         2.177275e+06                  93.160000                    3.667500\n",
              "50%         3.845750e+06                  95.195000                    4.380000\n",
              "75%         6.323800e+06                  97.160000                    6.285000\n",
              "max         4.803760e+07                  99.770000                    8.520000"
            ]
          },
          "metadata": {
            "tags": []
          },
          "execution_count": 6
        }
      ]
    },
    {
      "cell_type": "code",
      "metadata": {
        "id": "Hxk40fgAPyj3",
        "colab_type": "code",
        "colab": {
          "base_uri": "https://localhost:8080/",
          "height": 359
        },
        "outputId": "73305150-fe31-4fb1-bd6f-28beacdebf48"
      },
      "source": [
        "data.head(10)"
      ],
      "execution_count": null,
      "outputs": [
        {
          "output_type": "execute_result",
          "data": {
            "text/html": [
              "<div>\n",
              "<style scoped>\n",
              "    .dataframe tbody tr th:only-of-type {\n",
              "        vertical-align: middle;\n",
              "    }\n",
              "\n",
              "    .dataframe tbody tr th {\n",
              "        vertical-align: top;\n",
              "    }\n",
              "\n",
              "    .dataframe thead th {\n",
              "        text-align: right;\n",
              "    }\n",
              "</style>\n",
              "<table border=\"1\" class=\"dataframe\">\n",
              "  <thead>\n",
              "    <tr style=\"text-align: right;\">\n",
              "      <th></th>\n",
              "      <th>PROVINSI</th>\n",
              "      <th>KEPADATANPENDUDUK</th>\n",
              "      <th>TINGKATPARTISIPASISEKOLAH</th>\n",
              "      <th>TINGKATPENGANGGURANTERBUKA</th>\n",
              "    </tr>\n",
              "  </thead>\n",
              "  <tbody>\n",
              "    <tr>\n",
              "      <th>0</th>\n",
              "      <td>ACEH</td>\n",
              "      <td>5189500</td>\n",
              "      <td>98.09</td>\n",
              "      <td>6.36</td>\n",
              "    </tr>\n",
              "    <tr>\n",
              "      <th>1</th>\n",
              "      <td>SUMATERAUTARA</td>\n",
              "      <td>14262100</td>\n",
              "      <td>96.60</td>\n",
              "      <td>5.56</td>\n",
              "    </tr>\n",
              "    <tr>\n",
              "      <th>2</th>\n",
              "      <td>SUMATERABARAT</td>\n",
              "      <td>5321500</td>\n",
              "      <td>96.29</td>\n",
              "      <td>5.55</td>\n",
              "    </tr>\n",
              "    <tr>\n",
              "      <th>3</th>\n",
              "      <td>RIAU</td>\n",
              "      <td>6657900</td>\n",
              "      <td>94.73</td>\n",
              "      <td>6.30</td>\n",
              "    </tr>\n",
              "    <tr>\n",
              "      <th>4</th>\n",
              "      <td>JAMBI</td>\n",
              "      <td>3515000</td>\n",
              "      <td>95.89</td>\n",
              "      <td>3.86</td>\n",
              "    </tr>\n",
              "    <tr>\n",
              "      <th>5</th>\n",
              "      <td>SUMATERASELATAN</td>\n",
              "      <td>8267000</td>\n",
              "      <td>94.01</td>\n",
              "      <td>4.23</td>\n",
              "    </tr>\n",
              "    <tr>\n",
              "      <th>6</th>\n",
              "      <td>BENGKULU</td>\n",
              "      <td>1934300</td>\n",
              "      <td>92.70</td>\n",
              "      <td>3.51</td>\n",
              "    </tr>\n",
              "    <tr>\n",
              "      <th>7</th>\n",
              "      <td>LAMPUNG</td>\n",
              "      <td>8289600</td>\n",
              "      <td>94.26</td>\n",
              "      <td>4.06</td>\n",
              "    </tr>\n",
              "    <tr>\n",
              "      <th>8</th>\n",
              "      <td>KEPBANGKA</td>\n",
              "      <td>1430900</td>\n",
              "      <td>92.41</td>\n",
              "      <td>3.65</td>\n",
              "    </tr>\n",
              "    <tr>\n",
              "      <th>9</th>\n",
              "      <td>KEPRIAU</td>\n",
              "      <td>2082700</td>\n",
              "      <td>99.08</td>\n",
              "      <td>7.12</td>\n",
              "    </tr>\n",
              "  </tbody>\n",
              "</table>\n",
              "</div>"
            ],
            "text/plain": [
              "          PROVINSI  ...  TINGKATPENGANGGURANTERBUKA\n",
              "0             ACEH  ...                        6.36\n",
              "1    SUMATERAUTARA  ...                        5.56\n",
              "2    SUMATERABARAT  ...                        5.55\n",
              "3             RIAU  ...                        6.30\n",
              "4            JAMBI  ...                        3.86\n",
              "5  SUMATERASELATAN  ...                        4.23\n",
              "6         BENGKULU  ...                        3.51\n",
              "7          LAMPUNG  ...                        4.06\n",
              "8        KEPBANGKA  ...                        3.65\n",
              "9          KEPRIAU  ...                        7.12\n",
              "\n",
              "[10 rows x 4 columns]"
            ]
          },
          "metadata": {
            "tags": []
          },
          "execution_count": 7
        }
      ]
    },
    {
      "cell_type": "code",
      "metadata": {
        "id": "zy1BO0eKP6rE",
        "colab_type": "code",
        "colab": {
          "base_uri": "https://localhost:8080/",
          "height": 204
        },
        "outputId": "15724c5d-f067-43b2-a3f0-cb7418df623e"
      },
      "source": [
        "data.tail()"
      ],
      "execution_count": null,
      "outputs": [
        {
          "output_type": "execute_result",
          "data": {
            "text/html": [
              "<div>\n",
              "<style scoped>\n",
              "    .dataframe tbody tr th:only-of-type {\n",
              "        vertical-align: middle;\n",
              "    }\n",
              "\n",
              "    .dataframe tbody tr th {\n",
              "        vertical-align: top;\n",
              "    }\n",
              "\n",
              "    .dataframe thead th {\n",
              "        text-align: right;\n",
              "    }\n",
              "</style>\n",
              "<table border=\"1\" class=\"dataframe\">\n",
              "  <thead>\n",
              "    <tr style=\"text-align: right;\">\n",
              "      <th></th>\n",
              "      <th>PROVINSI</th>\n",
              "      <th>KEPADATANPENDUDUK</th>\n",
              "      <th>TINGKATPARTISIPASISEKOLAH</th>\n",
              "      <th>TINGKATPENGANGGURANTERBUKA</th>\n",
              "    </tr>\n",
              "  </thead>\n",
              "  <tbody>\n",
              "    <tr>\n",
              "      <th>29</th>\n",
              "      <td>SULAWESIBARAT</td>\n",
              "      <td>1331000</td>\n",
              "      <td>89.88</td>\n",
              "      <td>3.16</td>\n",
              "    </tr>\n",
              "    <tr>\n",
              "      <th>30</th>\n",
              "      <td>MALUKU</td>\n",
              "      <td>1744700</td>\n",
              "      <td>96.86</td>\n",
              "      <td>7.27</td>\n",
              "    </tr>\n",
              "    <tr>\n",
              "      <th>31</th>\n",
              "      <td>MALUKUUTARA</td>\n",
              "      <td>1209300</td>\n",
              "      <td>97.24</td>\n",
              "      <td>4.77</td>\n",
              "    </tr>\n",
              "    <tr>\n",
              "      <th>32</th>\n",
              "      <td>PAPUABARAT</td>\n",
              "      <td>915400</td>\n",
              "      <td>96.92</td>\n",
              "      <td>6.30</td>\n",
              "    </tr>\n",
              "    <tr>\n",
              "      <th>33</th>\n",
              "      <td>PAPUA</td>\n",
              "      <td>3265200</td>\n",
              "      <td>79.09</td>\n",
              "      <td>3.20</td>\n",
              "    </tr>\n",
              "  </tbody>\n",
              "</table>\n",
              "</div>"
            ],
            "text/plain": [
              "         PROVINSI  ...  TINGKATPENGANGGURANTERBUKA\n",
              "29  SULAWESIBARAT  ...                        3.16\n",
              "30         MALUKU  ...                        7.27\n",
              "31    MALUKUUTARA  ...                        4.77\n",
              "32     PAPUABARAT  ...                        6.30\n",
              "33          PAPUA  ...                        3.20\n",
              "\n",
              "[5 rows x 4 columns]"
            ]
          },
          "metadata": {
            "tags": []
          },
          "execution_count": 8
        }
      ]
    },
    {
      "cell_type": "code",
      "metadata": {
        "id": "7DAmPCtiP9Tk",
        "colab_type": "code",
        "colab": {
          "base_uri": "https://localhost:8080/",
          "height": 783
        },
        "outputId": "a857c15a-7063-4083-e02c-12109f92e458"
      },
      "source": [
        "import seaborn as sns\n",
        "sns.pairplot(data, hue='PROVINSI', size=3)"
      ],
      "execution_count": null,
      "outputs": [
        {
          "output_type": "stream",
          "text": [
            "/usr/local/lib/python3.6/dist-packages/seaborn/axisgrid.py:2065: UserWarning: The `size` parameter has been renamed to `height`; pleaes update your code.\n",
            "  warnings.warn(msg, UserWarning)\n",
            "/usr/local/lib/python3.6/dist-packages/numpy/core/_methods.py:217: RuntimeWarning: Degrees of freedom <= 0 for slice\n",
            "  keepdims=keepdims)\n",
            "/usr/local/lib/python3.6/dist-packages/numpy/core/_methods.py:209: RuntimeWarning: invalid value encountered in double_scalars\n",
            "  ret = ret.dtype.type(ret / rcount)\n"
          ],
          "name": "stderr"
        },
        {
          "output_type": "execute_result",
          "data": {
            "text/plain": [
              "<seaborn.axisgrid.PairGrid at 0x7fb7e1163588>"
            ]
          },
          "metadata": {
            "tags": []
          },
          "execution_count": 7
        },
        {
          "output_type": "display_data",
          "data": {
            "image/png": "[encoded data removed]",
            "text/plain": [
              "<Figure size 784.375x648 with 12 Axes>"
            ]
          },
          "metadata": {
            "tags": []
          }
        }
      ]
    },
    {
      "cell_type": "code",
      "metadata": {
        "id": "C7fqOuuwmSnn",
        "colab_type": "code",
        "colab": {}
      },
      "source": [
        "x = data.iloc[:, [1,2,3]].values\n",
        "#:semua baris, [kolom].nilai yang ada didalamnya"
      ],
      "execution_count": null,
      "outputs": []
    },
    {
      "cell_type": "code",
      "metadata": {
        "id": "50c0YrdZkGDw",
        "colab_type": "code",
        "colab": {
          "base_uri": "https://localhost:8080/",
          "height": 595
        },
        "outputId": "24b64d5f-7690-49f3-960a-552dba8e98e2"
      },
      "source": [
        "x"
      ],
      "execution_count": null,
      "outputs": [
        {
          "output_type": "execute_result",
          "data": {
            "text/plain": [
              "array([[5.18950e+06, 9.80900e+01, 6.36000e+00],\n",
              "       [1.42621e+07, 9.66000e+01, 5.56000e+00],\n",
              "       [5.32150e+06, 9.62900e+01, 5.55000e+00],\n",
              "       [6.65790e+06, 9.47300e+01, 6.30000e+00],\n",
              "       [3.51500e+06, 9.58900e+01, 3.86000e+00],\n",
              "       [8.26700e+06, 9.40100e+01, 4.23000e+00],\n",
              "       [1.93430e+06, 9.27000e+01, 3.51000e+00],\n",
              "       [8.28960e+06, 9.42600e+01, 4.06000e+00],\n",
              "       [1.43090e+06, 9.24100e+01, 3.65000e+00],\n",
              "       [2.08270e+06, 9.90800e+01, 7.12000e+00],\n",
              "       [1.03742e+07, 9.76400e+01, 6.24000e+00],\n",
              "       [4.80376e+07, 9.37700e+01, 8.17000e+00],\n",
              "       [3.42579e+07, 9.54800e+01, 4.51000e+00],\n",
              "       [3.76220e+06, 9.96300e+01, 3.35000e+00],\n",
              "       [3.92930e+06, 9.97700e+01, 3.99000e+00],\n",
              "       [1.24482e+07, 9.56700e+01, 8.52000e+00],\n",
              "       [4.24650e+06, 9.77200e+01, 1.37000e+00],\n",
              "       [4.95560e+06, 9.76900e+01, 3.72000e+00],\n",
              "       [5.28730e+06, 9.47600e+01, 3.01000e+00],\n",
              "       [4.93250e+06, 9.25100e+01, 4.26000e+00],\n",
              "       [2.60530e+06, 9.33700e+01, 4.01000e+00],\n",
              "       [4.11980e+06, 9.23300e+01, 4.50000e+00],\n",
              "       [3.57540e+06, 9.87900e+01, 6.60000e+00],\n",
              "       [6.91100e+05, 9.60400e+01, 5.22000e+00],\n",
              "       [2.46100e+06, 9.49100e+01, 6.86000e+00],\n",
              "       [2.96630e+06, 9.24100e+01, 3.43000e+00],\n",
              "       [8.69030e+06, 9.30900e+01, 5.34000e+00],\n",
              "       [2.60240e+06, 9.40800e+01, 3.26000e+00],\n",
              "       [1.16820e+06, 9.12300e+01, 4.03000e+00],\n",
              "       [1.33100e+06, 8.98800e+01, 3.16000e+00],\n",
              "       [1.74470e+06, 9.68600e+01, 7.27000e+00],\n",
              "       [1.20930e+06, 9.72400e+01, 4.77000e+00],\n",
              "       [9.15400e+05, 9.69200e+01, 6.30000e+00],\n",
              "       [3.26520e+06, 7.90900e+01, 3.20000e+00]])"
            ]
          },
          "metadata": {
            "tags": []
          },
          "execution_count": 9
        }
      ]
    },
    {
      "cell_type": "code",
      "metadata": {
        "id": "OEQdGVKUSbXi",
        "colab_type": "code",
        "colab": {
          "base_uri": "https://localhost:8080/",
          "height": 595
        },
        "outputId": "2ea36b1f-153b-4189-8392-ad53eeb4b6bc"
      },
      "source": [
        "#menstandarkan ukuran variable\n",
        "from sklearn.preprocessing import StandardScaler\n",
        "scaler = StandardScaler()\n",
        "x_scaled = scaler.fit_transform(x)\n",
        "print(x_scaled)"
      ],
      "execution_count": null,
      "outputs": [
        {
          "output_type": "stream",
          "text": [
            "[[-1.57481118e-01  8.80096212e-01  9.23787874e-01]\n",
            " [ 8.12444497e-01  4.75213592e-01  4.30617508e-01]\n",
            " [-1.43369377e-01  3.90976268e-01  4.24452878e-01]\n",
            " [-4.98690312e-04 -3.29276825e-02  8.86800097e-01]\n",
            " [-3.36497105e-01  2.82282948e-01 -6.17369521e-01]\n",
            " [ 1.71525570e-01 -2.28575660e-01 -3.89278227e-01]\n",
            " [-5.05485203e-01 -5.84546285e-01 -8.33131557e-01]\n",
            " [ 1.73941671e-01 -1.60642334e-01 -4.94076930e-01]\n",
            " [-5.59302251e-01 -6.63348943e-01 -7.46826743e-01]\n",
            " [-4.89620185e-01  1.14911218e+00  1.39229972e+00]\n",
            " [ 3.96800272e-01  7.57816226e-01  8.49812319e-01]\n",
            " [ 4.42328622e+00 -2.93791652e-01  2.03958583e+00]\n",
            " [ 2.95013806e+00  1.70872294e-01 -2.16668599e-01]\n",
            " [-3.10069663e-01  1.29856550e+00 -9.31765630e-01]\n",
            " [-2.92205481e-01  1.33660816e+00 -5.37229337e-01]\n",
            " [ 6.18525656e-01  2.22501621e-01  2.25534786e+00]\n",
            " [-2.58294540e-01  7.79554890e-01 -2.15236229e+00]\n",
            " [-1.82486695e-01  7.71402891e-01 -7.03674336e-01]\n",
            " [-1.47025601e-01 -2.47756834e-02 -1.14136304e+00]\n",
            " [-1.84956250e-01 -6.36175612e-01 -3.70784338e-01]\n",
            " [-4.33750520e-01 -4.02484973e-01 -5.24900078e-01]\n",
            " [-2.71839673e-01 -6.85087607e-01 -2.22833228e-01]\n",
            " [-3.30039914e-01  1.07030952e+00  1.07173898e+00]\n",
            " [-6.38392145e-01  3.23042943e-01  2.21020102e-01]\n",
            " [-4.49177218e-01  1.59843119e-02  1.23201935e+00]\n",
            " [-3.95157046e-01 -6.63348943e-01 -8.82448593e-01]\n",
            " [ 2.16779358e-01 -4.78570297e-01  2.94995657e-01]\n",
            " [-4.34060550e-01 -2.09554329e-01 -9.87247296e-01]\n",
            " [-5.87386754e-01 -9.83994239e-01 -5.12570818e-01]\n",
            " [-5.69982274e-01 -1.35083420e+00 -1.04889359e+00]\n",
            " [-5.25754794e-01  5.45864250e-01  1.48476917e+00]\n",
            " [-5.82992871e-01  6.49122905e-01 -5.63882294e-02]\n",
            " [-6.14412876e-01  5.62168249e-01  8.86800097e-01]\n",
            " [-3.63202505e-01 -4.28283652e+00 -1.02423507e+00]]\n"
          ],
          "name": "stdout"
        }
      ]
    },
    {
      "cell_type": "code",
      "metadata": {
        "id": "ej641GjRQ5GG",
        "colab_type": "code",
        "colab": {
          "base_uri": "https://localhost:8080/",
          "height": 68
        },
        "outputId": "1bf84765-c079-4dc4-cb8e-6a2609611aae"
      },
      "source": [
        "kmeans = KMeans(n_clusters=5, random_state=123)\n",
        "kmeans.fit(x_scaled)\n",
        "print(kmeans)"
      ],
      "execution_count": null,
      "outputs": [
        {
          "output_type": "stream",
          "text": [
            "KMeans(algorithm='auto', copy_x=True, init='k-means++', max_iter=300,\n",
            "       n_clusters=5, n_init=10, n_jobs=None, precompute_distances='auto',\n",
            "       random_state=123, tol=0.0001, verbose=0)\n"
          ],
          "name": "stdout"
        }
      ]
    },
    {
      "cell_type": "code",
      "metadata": {
        "id": "wgOFJrHeSKPC",
        "colab_type": "code",
        "colab": {
          "base_uri": "https://localhost:8080/",
          "height": 102
        },
        "outputId": "e8e4448f-a259-499a-e0db-a18b9cc21974"
      },
      "source": [
        "#Menampilkan nilai centroid yang digenerate oleh classifier\n",
        "print(kmeans.cluster_centers_)"
      ],
      "execution_count": null,
      "outputs": [
        {
          "output_type": "stream",
          "text": [
            "[[-0.12674799  0.53001314  1.0049555 ]\n",
            " [-0.36320251 -4.28283652 -1.02423507]\n",
            " [ 3.68671214 -0.06145968  0.91145861]\n",
            " [-0.32709106  0.85292288 -0.83313156]\n",
            " [-0.27128458 -0.54399532 -0.60456606]]\n"
          ],
          "name": "stdout"
        }
      ]
    },
    {
      "cell_type": "code",
      "metadata": {
        "id": "Ro-FYHymkkOU",
        "colab_type": "code",
        "colab": {
          "base_uri": "https://localhost:8080/",
          "height": 170
        },
        "outputId": "2c0547cf-40db-4c20-da19-fc1be59e9aa8"
      },
      "source": [
        "data.info()"
      ],
      "execution_count": null,
      "outputs": [
        {
          "output_type": "stream",
          "text": [
            "<class 'pandas.core.frame.DataFrame'>\n",
            "RangeIndex: 34 entries, 0 to 33\n",
            "Data columns (total 4 columns):\n",
            "PROVINSI                      34 non-null object\n",
            "KEPADATANPENDUDUK             34 non-null int64\n",
            "TINGKATPARTISIPASISEKOLAH     34 non-null float64\n",
            "TINGKATPENGANGGURANTERBUKA    34 non-null float64\n",
            "dtypes: float64(2), int64(1), object(1)\n",
            "memory usage: 1.2+ KB\n"
          ],
          "name": "stdout"
        }
      ]
    },
    {
      "cell_type": "code",
      "metadata": {
        "id": "dNu6YxONSRv9",
        "colab_type": "code",
        "colab": {
          "base_uri": "https://localhost:8080/",
          "height": 34
        },
        "outputId": "4aef31a3-37db-4c68-9558-e7e9d015c644"
      },
      "source": [
        "import numpy as np\n",
        "print(kmeans.labels_)"
      ],
      "execution_count": null,
      "outputs": [
        {
          "output_type": "stream",
          "text": [
            "[0 0 0 0 3 4 4 4 4 0 0 2 2 3 3 0 3 3 4 4 4 4 0 0 0 4 4 4 4 4 0 3 0 1]\n"
          ],
          "name": "stdout"
        }
      ]
    },
    {
      "cell_type": "code",
      "metadata": {
        "id": "jjrmnsyXS6NA",
        "colab_type": "code",
        "colab": {
          "base_uri": "https://localhost:8080/",
          "height": 295
        },
        "outputId": "f2a04b3f-9cc1-4f7e-adad-72ed88875f87"
      },
      "source": [
        "plt.scatter(x_scaled[:,0], x_scaled[:,1], c=kmeans.labels_, cmap='rainbow')\n",
        "plt.xlabel('KEPADATAN PENDUDUK')\n",
        "plt.ylabel('TINGKATPARTISIPASISEKOLAH  ')\n",
        "plt.title('Grafik Cluster')\n",
        "plt.show()"
      ],
      "execution_count": null,
      "outputs": [
        {
          "output_type": "display_data",
          "data": {
            "image/png": "[encoded data removed]",
            "text/plain": [
              "<Figure size 432x288 with 1 Axes>"
            ]
          },
          "metadata": {
            "tags": []
          }
        }
      ]
    },
    {
      "cell_type": "code",
      "metadata": {
        "id": "ghemdNyyTP3X",
        "colab_type": "code",
        "colab": {
          "base_uri": "https://localhost:8080/",
          "height": 336
        },
        "outputId": "15e10f26-bee7-457d-8b2b-dada1a161eca"
      },
      "source": [
        "#--- Memvisualkan hasil kluster ---\n",
        "#--- Menambahkan Kolom \"kluster\" Dalam Data Frame PENDUDUK ---\n",
        "#import matplotlib.pyplot as plt\n",
        "plt.rcParams[\"figure.figsize\"] = (5,5)\n",
        "#width,height\n",
        "\n",
        "data[\"kluster\"] = kmeans.labels_\n",
        "output = plt.scatter(x_scaled[:,0], x_scaled[:,1], c = data.kluster, marker = \"o\", alpha = 1)\n",
        "centers = kmeans.cluster_centers_\n",
        "plt.scatter(centers[:,0], centers[:,1], c='green', alpha=1 , marker=\"s\")\n",
        "plt.title(\"Hasil Klustering K-Means\")\n",
        "plt.colorbar (output)\n",
        "plt.show()"
      ],
      "execution_count": null,
      "outputs": [
        {
          "output_type": "display_data",
          "data": {
            "image/png": "[encoded data removed]",
            "text/plain": [
              "<Figure size 360x360 with 2 Axes>"
            ]
          },
          "metadata": {
            "tags": []
          }
        }
      ]
    },
    {
      "cell_type": "code",
      "metadata": {
        "id": "RfMS9MAXTcOQ",
        "colab_type": "code",
        "colab": {
          "base_uri": "https://localhost:8080/",
          "height": 350
        },
        "outputId": "ef21f11f-f7c5-43e3-e26a-a7605963d542"
      },
      "source": [
        "Error =[]\n",
        "for i in range(1, 11):\n",
        "    kmeans_elbow = KMeans(n_clusters = i).fit(x)\n",
        "    kmeans_elbow.fit(x)\n",
        "    Error.append(kmeans_elbow.inertia_)\n",
        "import matplotlib.pyplot as plt\n",
        "plt.plot(range(1, 11), Error)\n",
        "plt.title('Elbow method')\n",
        "plt.xlabel('No of clusters')\n",
        "plt.ylabel('Error')\n",
        "plt.show()"
      ],
      "execution_count": null,
      "outputs": [
        {
          "output_type": "display_data",
          "data": {
            "image/png": "[encoded data removed]",
            "text/plain": [
              "<Figure size 360x360 with 1 Axes>"
            ]
          },
          "metadata": {
            "tags": []
          }
        }
      ]
    },
    {
      "cell_type": "code",
      "metadata": {
        "id": "hA430e4MY3O2",
        "colab_type": "code",
        "colab": {
          "base_uri": "https://localhost:8080/",
          "height": 34
        },
        "outputId": "ebcbb2b5-3e4b-4b3a-d5c4-8d887a941e40"
      },
      "source": [
        "# ambil input\n",
        "KEPADATANPENDUDUK =  50000#@param {type:\"number\"}\n",
        "TINGKATPARTISIPASISEKOLAH =  13#@param {type:\"number\"}\n",
        "TINGKATPENGANGGURANTERBUKA =  20#@param {type:\"number\"}\n",
        "\n",
        "# buat vektor untuk uji\n",
        "x_coba = [[KEPADATANPENDUDUK, TINGKATPARTISIPASISEKOLAH, TINGKATPENGANGGURANTERBUKA]]\n",
        "x_coba = scaler.transform(x_coba)\n",
        "\n",
        "# prediksikan dengan model\n",
        "y_pred = kmeans.predict(x_coba)\n",
        "\n",
        "# cetak hasil\n",
        "print(\"Hasil prediksi: %s\" % y_pred[0])"
      ],
      "execution_count": null,
      "outputs": [
        {
          "output_type": "stream",
          "text": [
            "Hasil prediksi: 1\n"
          ],
          "name": "stdout"
        }
      ]
    }
  ]
}