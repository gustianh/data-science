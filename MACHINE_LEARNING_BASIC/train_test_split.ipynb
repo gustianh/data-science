{
 "metadata": {
  "language_info": {
   "codemirror_mode": {
    "name": "ipython",
    "version": 3
   },
   "file_extension": ".py",
   "mimetype": "text/x-python",
   "name": "python",
   "nbconvert_exporter": "python",
   "pygments_lexer": "ipython3",
   "version": "3.7.10-final"
  },
  "orig_nbformat": 2,
  "kernelspec": {
   "name": "python3710jvsc74a57bd0c02037e49f84d354436ab1f5d64f5b57e9c6081773048d2a8c26d6200f612ab1",
   "display_name": "Python 3.7.10 64-bit ('Continuum': virtualenv)"
  }
 },
 "nbformat": 4,
 "nbformat_minor": 2,
 "cells": [
  {
   "source": [
    "**Data Latih dan Data Uji**\n",
    "\n",
    "Umumnya data latih dan data uji dibagi :\n",
    "* 80:20 = yaitu 80% data latih dan 20% data uji.\n",
    "* 70:30 = yaitu 70% data latih dan 30% data uji. Atau\n",
    "* 60:40 = yaitu 60% data latih dan 40% data uji.\n",
    "\n",
    "Untuk dataset berukuran besar dengan record misalnya 1 juta. Maka kita bisa menggunakan format 90:10 atau 99:1. \n",
    "\n",
    "Saya diajari untuk membagi data latih dan data uji menggunakan pustaka `Sklearn`. "
   ],
   "cell_type": "markdown",
   "metadata": {}
  },
  {
   "cell_type": "code",
   "execution_count": null,
   "metadata": {},
   "outputs": [],
   "source": [
    "from sklearn.model_selection import train_test_split\n",
    "\n",
    "x_train, x_test, y_train, y_test = train_test_split(X,y, test_size=0.2, random_state=1)"
   ]
  },
  {
   "source": [
    "Dari kode tersebut kita bisa melihat data yang ada akan dipisah menjadi 80% data latih dan 20% data uji. Namun, sebelum pemisaham fungsi train_test_split akan melakukan pemisahan data. Proses ini penting supaya data tetap berimbang. \n",
    "\n",
    "Melalui parameter `random_state` ini memungkinkan kita untuk mendapatkan jumlah bilangan acak dengan urutan yang sama. Misal urutan awal bilangan adalah 1, 2, 3. Saat dilakukan proses algoritma, maka urutannya akan tetap sama yaitu 1, 2, 3. Jika tidak ditentukan random_state maka akurasi ML nantinya akan berbeda - beda. \n",
    "\n",
    "Biasanya random_state di deklarasikan 1,0, atau 42. Dan ini adalah praktik random_state :"
   ],
   "cell_type": "markdown",
   "metadata": {}
  },
  {
   "cell_type": "code",
   "execution_count": 1,
   "metadata": {},
   "outputs": [
    {
     "output_type": "stream",
     "name": "stdout",
     "text": [
      "random_state ditentukan\n[8, 1, 5]\n[8, 1, 5]\n[8, 1, 5]\nrandom_state tidak ditentukan\n[7, 2, 1]\n[6, 7, 9]\n[7, 8, 0]\n"
     ]
    }
   ],
   "source": [
    "from sklearn.model_selection import train_test_split\n",
    " \n",
    "X_data = range(10)\n",
    "y_data = range(10)\n",
    " \n",
    "print(\"random_state ditentukan\")\n",
    "for i in range(3):\n",
    "    X_train, X_test, y_train, y_test = train_test_split(X_data, y_data, test_size = 0.3, random_state = 42)\n",
    "    print(y_test)\n",
    " \n",
    " \n",
    "print(\"random_state tidak ditentukan\")\n",
    "for i in range(3):\n",
    "    X_train, X_test, y_train, y_test = train_test_split(X_data, y_data, test_size = 0.3, random_state = None)\n",
    "    print(y_test)"
   ]
  },
  {
   "cell_type": "code",
   "execution_count": null,
   "metadata": {},
   "outputs": [],
   "source": []
  }
 ]
}