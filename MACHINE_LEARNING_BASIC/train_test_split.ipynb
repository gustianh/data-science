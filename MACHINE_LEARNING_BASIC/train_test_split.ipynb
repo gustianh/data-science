{
 "metadata": {
  "language_info": {
   "codemirror_mode": {
    "name": "ipython",
    "version": 3
   },
   "file_extension": ".py",
   "mimetype": "text/x-python",
   "name": "python",
   "nbconvert_exporter": "python",
   "pygments_lexer": "ipython3",
   "version": 3
  },
  "orig_nbformat": 2
 },
 "nbformat": 4,
 "nbformat_minor": 2,
 "cells": [
  {
   "source": [
    "**Data Latih dan Data Uji**\n",
    "\n",
    "Umumnya data latih dan data uji dibagi :\n",
    "* 80:20 = yaitu 80% data latih dan 20% data uji.\n",
    "* 70:30 = yaitu 70% data latih dan 30% data uji. Atau\n",
    "* 60:40 = yaitu 60% data latih dan 40% data uji.\n",
    "\n",
    "Untuk dataset berukuran besar dengan record misalnya 1 juta. Maka kita bisa menggunakan format 90:10 atau 99:1. \n",
    "\n",
    "Saya diajari untuk membagi data latih dan data uji menggunakan pustaka `Sklearn`. "
   ],
   "cell_type": "markdown",
   "metadata": {}
  },
  {
   "cell_type": "code",
   "execution_count": null,
   "metadata": {},
   "outputs": [],
   "source": []
  }
 ]
}