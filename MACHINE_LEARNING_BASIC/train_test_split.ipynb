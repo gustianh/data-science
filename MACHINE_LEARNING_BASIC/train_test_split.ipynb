{
 "metadata": {
  "language_info": {
   "codemirror_mode": {
    "name": "ipython",
    "version": 3
   },
   "file_extension": ".py",
   "mimetype": "text/x-python",
   "name": "python",
   "nbconvert_exporter": "python",
   "pygments_lexer": "ipython3",
   "version": 3
  },
  "orig_nbformat": 2
 },
 "nbformat": 4,
 "nbformat_minor": 2,
 "cells": [
  {
   "source": [
    "**Data Latih dan Data Uji**\n",
    "\n",
    "Umumnya data latih dan data uji dibagi :\n",
    "* 80:20 = yaitu 80% data latih dan 20% data uji.\n",
    "* 70:30 = yaitu 70% data latih dan 30% data uji. Atau\n",
    "* 60:40 = yaitu 60% data latih dan 40% data uji.\n",
    "\n",
    "Untuk dataset berukuran besar dengan record misalnya 1 juta. Maka kita bisa menggunakan format 90:10 atau 99:1. \n",
    "\n",
    "Saya diajari untuk membagi data latih dan data uji menggunakan pustaka `Sklearn`. "
   ],
   "cell_type": "markdown",
   "metadata": {}
  },
  {
   "cell_type": "code",
   "execution_count": null,
   "metadata": {},
   "outputs": [],
   "source": [
    "from sklearn.model_selection import train_test_split\n",
    "\n",
    "x_train, x_test, y_train, y_test = train_test_split(X,y, test_size=0.2, random_state=1)"
   ]
  },
  {
   "source": [
    "Dari kode tersebut kita bisa melihat data yang ada akan dipisah menjadi 80% data latih dan 20% data uji. Namun, sebelum pemisaham fungsi train_test_split akan melakukan pemisahan data. Proses ini penting supaya data tetap berimbang. \n",
    "\n",
    "Melalui parameter `random_state` ini memungkinkan kita untuk mendapatkan jumlah bilangan acak dengan urutan yang sama. Misal urutan awal bilangan adalah 1, 2, 3. Saat dilakukan proses algoritma, maka urutannya akan tetap sama yaitu 1, 2, 3. Jika tidak ditentukan random_state maka akurasi ML nantinya akan berbeda - beda. \n",
    "\n",
    "Biasanya random_state di deklarasikan 1,0, atau 42. Dan ini adalah praktik random_state :"
   ],
   "cell_type": "markdown",
   "metadata": {}
  },
  {
   "cell_type": "code",
   "execution_count": null,
   "metadata": {},
   "outputs": [],
   "source": []
  }
 ]
}