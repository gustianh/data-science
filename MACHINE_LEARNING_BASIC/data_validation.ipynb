{
 "metadata": {
  "language_info": {
   "codemirror_mode": {
    "name": "ipython",
    "version": 3
   },
   "file_extension": ".py",
   "mimetype": "text/x-python",
   "name": "python",
   "nbconvert_exporter": "python",
   "pygments_lexer": "ipython3",
   "version": 3
  },
  "orig_nbformat": 2
 },
 "nbformat": 4,
 "nbformat_minor": 2,
 "cells": [
  {
   "source": [
    "# **DATA VALIDATION**\n",
    "\n",
    "Kita sudah punya data, membagi data latih dan data ujinya dan menerapkan algoritma yang paling cocok. Setelahnya kita uji nih, data kita. Akurasinya sangat bagus. 98% misalnya. Dan kita membawanya ke tahap produksi. \n",
    "\n",
    "Saat diuji dengan data baru, kita mendapatkan tingkat error hingga 20%. Kenapa hal ini terjadi ? karena saat proses pengujian akurasi kita terus menguji dengan data tes kita. Ini spenuhnya berbeda dengan data *real-world* yang ada. Terlebih jika data kita hanyalah data mainan. \n",
    "\n",
    "Oleh karena itu kita butuh namanya evaluasi data"
   ],
   "cell_type": "markdown",
   "metadata": {}
  },
  {
   "source": [
    "## **Cross Validation Folds - `k-Fold`**\n",
    "\n",
    "K-Fold Cross Validation atau lebih sering disebut cross validation adalah salah satu teknik yang populer dipakai dalam evaluasi model ML. Pada cross validation dataset dibagi sebanyak K lipatan. Pada setiap iterasi setiap lipatan akan dipakai satu kali sebagai data uji dan lipatan sisanya dipakai sebagai data latih."
   ],
   "cell_type": "markdown",
   "metadata": {}
  },
  {
   "cell_type": "code",
   "execution_count": null,
   "metadata": {},
   "outputs": [],
   "source": []
  }
 ]
}