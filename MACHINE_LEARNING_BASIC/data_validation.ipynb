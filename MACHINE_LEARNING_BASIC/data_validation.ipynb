{
 "metadata": {
  "language_info": {
   "codemirror_mode": {
    "name": "ipython",
    "version": 3
   },
   "file_extension": ".py",
   "mimetype": "text/x-python",
   "name": "python",
   "nbconvert_exporter": "python",
   "pygments_lexer": "ipython3",
   "version": "3.7.10-final"
  },
  "orig_nbformat": 2,
  "kernelspec": {
   "name": "python3710jvsc74a57bd0c02037e49f84d354436ab1f5d64f5b57e9c6081773048d2a8c26d6200f612ab1",
   "display_name": "Python 3.7.10 64-bit ('Continuum': virtualenv)"
  }
 },
 "nbformat": 4,
 "nbformat_minor": 2,
 "cells": [
  {
   "source": [
    "# **DATA VALIDATION**\n",
    "\n",
    "Kita sudah punya data, membagi data latih dan data ujinya dan menerapkan algoritma yang paling cocok. Setelahnya kita uji nih, data kita. Akurasinya sangat bagus. 98% misalnya. Dan kita membawanya ke tahap produksi. \n",
    "\n",
    "Saat diuji dengan data baru, kita mendapatkan tingkat error hingga 20%. Kenapa hal ini terjadi ? karena saat proses pengujian akurasi kita terus menguji dengan data tes kita. Ini spenuhnya berbeda dengan data *real-world* yang ada. Terlebih jika data kita hanyalah data mainan. \n",
    "\n",
    "Oleh karena itu kita butuh namanya evaluasi data"
   ],
   "cell_type": "markdown",
   "metadata": {}
  },
  {
   "source": [
    "## **Cross Validation Folds - `k-Fold`**\n",
    "\n",
    "K-Fold Cross Validation atau lebih sering disebut cross validation adalah salah satu teknik yang populer dipakai dalam evaluasi model ML. Pada cross validation dataset dibagi sebanyak K lipatan. Pada setiap iterasi setiap lipatan akan dipakai satu kali sebagai data uji dan lipatan sisanya dipakai sebagai data latih."
   ],
   "cell_type": "markdown",
   "metadata": {}
  },
  {
   "cell_type": "code",
   "execution_count": 3,
   "metadata": {},
   "outputs": [],
   "source": [
    "import sklearn\n",
    "from sklearn import datasets\n",
    "\n",
    "# memuat data iris\n",
    "data_iris = datasets.load_iris()\n",
    "\n",
    "# memisah atribut dan label\n",
    "x = data_iris.data\n",
    "y = data_iris.target\n",
    "\n",
    "from sklearn import tree\n",
    "\n",
    "# membuat model dengan decision tree ckassifier\n",
    "clf = tree.DecisionTreeClassifier()"
   ]
  },
  {
   "source": [
    "Fungsi cross_val_score() seperti di bawah menerima 4 parameter yaitu, ‘clf’ yang merupakan model machine learning, ‘X’ yang merupakan atribut dari dataset, ‘y’ yang merupakan label dari dataset, dan ‘cv’ yang merupakan jumlah fold yang akan dipakai pada cross validation."
   ],
   "cell_type": "markdown",
   "metadata": {}
  },
  {
   "cell_type": "code",
   "execution_count": 4,
   "metadata": {},
   "outputs": [],
   "source": [
    "from sklearn.model_selection import cross_val_score\n",
    " \n",
    "# mengevaluasi performa model dengan cross_val_score\n",
    "scores = cross_val_score(clf, x, y, cv=5)"
   ]
  },
  {
   "cell_type": "code",
   "execution_count": 5,
   "metadata": {},
   "outputs": [
    {
     "output_type": "execute_result",
     "data": {
      "text/plain": [
       "array([0.96666667, 0.96666667, 0.9       , 0.93333333, 1.        ])"
      ]
     },
     "metadata": {},
     "execution_count": 5
    }
   ],
   "source": [
    "scores"
   ]
  }
 ]
}