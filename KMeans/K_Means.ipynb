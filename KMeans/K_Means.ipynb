{
  "nbformat": 4,
  "nbformat_minor": 0,
  "metadata": {
    "colab": {
      "name": "K-Means.ipynb",
      "provenance": [],
      "collapsed_sections": []
    },
    "kernelspec": {
      "name": "python3",
      "display_name": "Python 3"
    }
  },
  "cells": [
    {
      "cell_type": "code",
      "metadata": {
        "id": "g8fUgq5wCgKr",
        "colab_type": "code",
        "colab": {}
      },
      "source": [
        "import pandas as pd\n",
        "import numpy as np\n",
        "import matplotlib.pyplot as plt\n",
        "from sklearn.cluster import KMeans\n",
        "from sklearn.preprocessing import MinMaxScaler"
      ],
      "execution_count": 0,
      "outputs": []
    },
    {
      "cell_type": "code",
      "metadata": {
        "id": "4zaeP5FSEAo_",
        "colab_type": "code",
        "outputId": "0e70abad-f614-4974-c734-f1739e39779b",
        "colab": {
          "resources": {
            "http://localhost:8080/nbextensions/google.colab/files.js": {
              "data": "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",
              "ok": true,
              "headers": [
                [
                  "content-type",
                  "application/javascript"
                ]
              ],
              "status": 200,
              "status_text": ""
            }
          },
          "base_uri": "https://localhost:8080/",
          "height": 40
        }
      },
      "source": [
        "from google.colab import files\n",
        "uploaded = files.upload()"
      ],
      "execution_count": 0,
      "outputs": [
        {
          "output_type": "display_data",
          "data": {
            "text/html": [
              "\n",
              "     <input type=\"file\" id=\"files-e1a68099-1493-4ac3-bf53-438ee26478f5\" name=\"files[]\" multiple disabled />\n",
              "     <output id=\"result-e1a68099-1493-4ac3-bf53-438ee26478f5\">\n",
              "      Upload widget is only available when the cell has been executed in the\n",
              "      current browser session. Please rerun this cell to enable.\n",
              "      </output>\n",
              "      <script src=\"/nbextensions/google.colab/files.js\"></script> "
            ],
            "text/plain": [
              "<IPython.core.display.HTML object>"
            ]
          },
          "metadata": {
            "tags": []
          }
        }
      ]
    },
    {
      "cell_type": "code",
      "metadata": {
        "id": "syzYOWX1Egyt",
        "colab_type": "code",
        "outputId": "83f2f45a-1b42-4c76-f27f-147144c709ad",
        "colab": {
          "resources": {
            "http://localhost:8080/nbextensions/google.colab/files.js": {
              "data": "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",
              "ok": true,
              "headers": [
                [
                  "content-type",
                  "application/javascript"
                ]
              ],
              "status": 200,
              "status_text": ""
            }
          },
          "base_uri": "https://localhost:8080/",
          "height": 40
        }
      },
      "source": [
        "from google.colab import files\n",
        "uploaded = files.upload()"
      ],
      "execution_count": 0,
      "outputs": [
        {
          "output_type": "display_data",
          "data": {
            "text/html": [
              "\n",
              "     <input type=\"file\" id=\"files-f1213221-48db-459e-b744-5776d8023704\" name=\"files[]\" multiple disabled />\n",
              "     <output id=\"result-f1213221-48db-459e-b744-5776d8023704\">\n",
              "      Upload widget is only available when the cell has been executed in the\n",
              "      current browser session. Please rerun this cell to enable.\n",
              "      </output>\n",
              "      <script src=\"/nbextensions/google.colab/files.js\"></script> "
            ],
            "text/plain": [
              "<IPython.core.display.HTML object>"
            ]
          },
          "metadata": {
            "tags": []
          }
        }
      ]
    },
    {
      "cell_type": "code",
      "metadata": {
        "id": "wfquOj20ElgY",
        "colab_type": "code",
        "outputId": "a8faefa9-0cff-4a9f-a339-a7c517e7643f",
        "colab": {
          "base_uri": "https://localhost:8080/",
          "height": 169
        }
      },
      "source": [
        "rhmn= pd.read_csv('go_track_tracks.csv')"
      ],
      "execution_count": 0,
      "outputs": [
        {
          "output_type": "error",
          "ename": "NameError",
          "evalue": "ignored",
          "traceback": [
            "\u001b[0;31m---------------------------------------------------------------------------\u001b[0m",
            "\u001b[0;31mNameError\u001b[0m                                 Traceback (most recent call last)",
            "\u001b[0;32m<ipython-input-1-a4f7d404dae7>\u001b[0m in \u001b[0;36m<module>\u001b[0;34m()\u001b[0m\n\u001b[0;32m----> 1\u001b[0;31m \u001b[0mrhmn\u001b[0m\u001b[0;34m=\u001b[0m \u001b[0mpd\u001b[0m\u001b[0;34m.\u001b[0m\u001b[0mread_csv\u001b[0m\u001b[0;34m(\u001b[0m\u001b[0;34m'go_track_tracks.csv'\u001b[0m\u001b[0;34m)\u001b[0m\u001b[0;34m\u001b[0m\u001b[0;34m\u001b[0m\u001b[0m\n\u001b[0m",
            "\u001b[0;31mNameError\u001b[0m: name 'pd' is not defined"
          ]
        }
      ]
    },
    {
      "cell_type": "code",
      "metadata": {
        "id": "FdYnFCJAEyje",
        "colab_type": "code",
        "outputId": "5ce5a9f1-1be0-4e72-a482-68dbd5ae14c2",
        "colab": {
          "base_uri": "https://localhost:8080/",
          "height": 1105
        }
      },
      "source": [
        "print(driver)"
      ],
      "execution_count": 0,
      "outputs": [
        {
          "output_type": "stream",
          "text": [
            "        id  id_android  ...  car_or_bus                           linha\n",
            "0        1           0  ...           1                             NaN\n",
            "1        2           0  ...           1                             NaN\n",
            "2        3           1  ...           2                             NaN\n",
            "3        4           1  ...           2                             NaN\n",
            "4        8           0  ...           1                             NaN\n",
            "5       10           2  ...           1                             NaN\n",
            "6       11           3  ...           1                             NaN\n",
            "7       12           1  ...           2                             NaN\n",
            "8       13           1  ...           2                             NaN\n",
            "9       14           1  ...           2                             NaN\n",
            "10      16           3  ...           1                             NaN\n",
            "11      17           3  ...           1                             NaN\n",
            "12      18           1  ...           2                             NaN\n",
            "13      19           1  ...           2                             NaN\n",
            "14      20           4  ...           1                             NaN\n",
            "15      21           4  ...           1                             NaN\n",
            "16      22           4  ...           1                             NaN\n",
            "17      23           4  ...           1                             NaN\n",
            "18      24           4  ...           2                             NaN\n",
            "19      25           4  ...           2                             NaN\n",
            "20      26           4  ...           2                             NaN\n",
            "21      27           4  ...           2                             NaN\n",
            "22      28           3  ...           1                             NaN\n",
            "23      30           3  ...           1                             NaN\n",
            "24      31           3  ...           1                             NaN\n",
            "25      33           1  ...           2                             NaN\n",
            "26      34           3  ...           1                             NaN\n",
            "27      35           3  ...           1                             NaN\n",
            "28      36           3  ...           1                             NaN\n",
            "29      37           1  ...           1                             NaN\n",
            "..     ...         ...  ...         ...                             ...\n",
            "133  38013          15  ...           1                           carro\n",
            "134  38015          10  ...           2            051 - ATALAIA CENTRO\n",
            "135  38016           1  ...           2  031 - EDUARDO GOMES DES. MAYNA\n",
            "136  38017          16  ...           1                           carro\n",
            "137  38018          17  ...           2          061 - M. FREIRE CENTRO\n",
            "138  38019          16  ...           1                           carro\n",
            "139  38020          18  ...           1                           carro\n",
            "140  38021          18  ...           1                           carro\n",
            "141  38022           1  ...           2  031 - EDUARDO GOMES DES. MAYNA\n",
            "142  38024          10  ...           2            051 - ATALAIA CENTRO\n",
            "143  38030           1  ...           2  031 - EDUARDO GOMES DES. MAYNA\n",
            "144  38031          19  ...           2               020 - PIABETA DIA\n",
            "145  38039          20  ...           2       002 - FERNANDO COLLOR DIA\n",
            "146  38044          21  ...           2            001 - A FRANCO BUGIO\n",
            "147  38045          21  ...           2            001 - A FRANCO BUGIO\n",
            "148  38064          22  ...           2     707 - CASTELO BRANCO CENTRO\n",
            "149  38069          23  ...           2            001 - A FRANCO BUGIO\n",
            "150  38072          24  ...           1                           carro\n",
            "151  38073          24  ...           1                           carro\n",
            "152  38074          24  ...           1                           carro\n",
            "153  38075          24  ...           1                           carro\n",
            "154  38076          24  ...           1                           carro\n",
            "155  38077          24  ...           1                           carro\n",
            "156  38079          24  ...           1                           carro\n",
            "157  38080          24  ...           1                           carro\n",
            "158  38081          24  ...           1                           carro\n",
            "159  38082          24  ...           1                           carro\n",
            "160  38084          25  ...           2     721 - CASTELO BRANCO SUISSA\n",
            "161  38090          26  ...           2       002 - FERNANDO COLLOR DIA\n",
            "162  38092          27  ...           2        060 - PADRE PEDRO CAMPUS\n",
            "\n",
            "[163 rows x 10 columns]\n"
          ],
          "name": "stdout"
        }
      ]
    },
    {
      "cell_type": "code",
      "metadata": {
        "id": "H-YrU64gE-ve",
        "colab_type": "code",
        "outputId": "617ca494-51e9-4591-928b-188f9109d404",
        "colab": {
          "base_uri": "https://localhost:8080/",
          "height": 204
        }
      },
      "source": [
        "driver.head()"
      ],
      "execution_count": 0,
      "outputs": [
        {
          "output_type": "execute_result",
          "data": {
            "text/html": [
              "<div>\n",
              "<style scoped>\n",
              "    .dataframe tbody tr th:only-of-type {\n",
              "        vertical-align: middle;\n",
              "    }\n",
              "\n",
              "    .dataframe tbody tr th {\n",
              "        vertical-align: top;\n",
              "    }\n",
              "\n",
              "    .dataframe thead th {\n",
              "        text-align: right;\n",
              "    }\n",
              "</style>\n",
              "<table border=\"1\" class=\"dataframe\">\n",
              "  <thead>\n",
              "    <tr style=\"text-align: right;\">\n",
              "      <th></th>\n",
              "      <th>id</th>\n",
              "      <th>id_android</th>\n",
              "      <th>speed</th>\n",
              "      <th>time</th>\n",
              "      <th>distance</th>\n",
              "      <th>rating</th>\n",
              "      <th>rating_bus</th>\n",
              "      <th>rating_weather</th>\n",
              "      <th>car_or_bus</th>\n",
              "      <th>linha</th>\n",
              "    </tr>\n",
              "  </thead>\n",
              "  <tbody>\n",
              "    <tr>\n",
              "      <th>0</th>\n",
              "      <td>1</td>\n",
              "      <td>0</td>\n",
              "      <td>19.210586</td>\n",
              "      <td>0.138049</td>\n",
              "      <td>2.652</td>\n",
              "      <td>3</td>\n",
              "      <td>0</td>\n",
              "      <td>0</td>\n",
              "      <td>1</td>\n",
              "      <td>NaN</td>\n",
              "    </tr>\n",
              "    <tr>\n",
              "      <th>1</th>\n",
              "      <td>2</td>\n",
              "      <td>0</td>\n",
              "      <td>30.848229</td>\n",
              "      <td>0.171485</td>\n",
              "      <td>5.290</td>\n",
              "      <td>3</td>\n",
              "      <td>0</td>\n",
              "      <td>0</td>\n",
              "      <td>1</td>\n",
              "      <td>NaN</td>\n",
              "    </tr>\n",
              "    <tr>\n",
              "      <th>2</th>\n",
              "      <td>3</td>\n",
              "      <td>1</td>\n",
              "      <td>13.560101</td>\n",
              "      <td>0.067699</td>\n",
              "      <td>0.918</td>\n",
              "      <td>3</td>\n",
              "      <td>0</td>\n",
              "      <td>0</td>\n",
              "      <td>2</td>\n",
              "      <td>NaN</td>\n",
              "    </tr>\n",
              "    <tr>\n",
              "      <th>3</th>\n",
              "      <td>4</td>\n",
              "      <td>1</td>\n",
              "      <td>19.766679</td>\n",
              "      <td>0.389544</td>\n",
              "      <td>7.700</td>\n",
              "      <td>3</td>\n",
              "      <td>0</td>\n",
              "      <td>0</td>\n",
              "      <td>2</td>\n",
              "      <td>NaN</td>\n",
              "    </tr>\n",
              "    <tr>\n",
              "      <th>4</th>\n",
              "      <td>8</td>\n",
              "      <td>0</td>\n",
              "      <td>25.807401</td>\n",
              "      <td>0.154801</td>\n",
              "      <td>3.995</td>\n",
              "      <td>2</td>\n",
              "      <td>0</td>\n",
              "      <td>0</td>\n",
              "      <td>1</td>\n",
              "      <td>NaN</td>\n",
              "    </tr>\n",
              "  </tbody>\n",
              "</table>\n",
              "</div>"
            ],
            "text/plain": [
              "   id  id_android      speed  ...  rating_weather  car_or_bus  linha\n",
              "0   1           0  19.210586  ...               0           1    NaN\n",
              "1   2           0  30.848229  ...               0           1    NaN\n",
              "2   3           1  13.560101  ...               0           2    NaN\n",
              "3   4           1  19.766679  ...               0           2    NaN\n",
              "4   8           0  25.807401  ...               0           1    NaN\n",
              "\n",
              "[5 rows x 10 columns]"
            ]
          },
          "metadata": {
            "tags": []
          },
          "execution_count": 14
        }
      ]
    },
    {
      "cell_type": "code",
      "metadata": {
        "id": "8yVc6RUFFSsK",
        "colab_type": "code",
        "colab": {}
      },
      "source": [
        "driver = driver.drop([\"linha\", \"car_or_bus\",\"rating_weather\", \"rating_bus\",\"rating\",\"time\"], axis = 1)"
      ],
      "execution_count": 0,
      "outputs": []
    },
    {
      "cell_type": "code",
      "metadata": {
        "id": "3brrXCquFBZ9",
        "colab_type": "code",
        "outputId": "4484f4e8-9847-43bb-e6c3-d7f0af31cdff",
        "colab": {
          "base_uri": "https://localhost:8080/",
          "height": 204
        }
      },
      "source": [
        "#ada kolom yang tidak diperlukan, jadi mari kita hapus saja pakai kodingan diatas\n",
        "driver.head()\n"
      ],
      "execution_count": 0,
      "outputs": [
        {
          "output_type": "execute_result",
          "data": {
            "text/html": [
              "<div>\n",
              "<style scoped>\n",
              "    .dataframe tbody tr th:only-of-type {\n",
              "        vertical-align: middle;\n",
              "    }\n",
              "\n",
              "    .dataframe tbody tr th {\n",
              "        vertical-align: top;\n",
              "    }\n",
              "\n",
              "    .dataframe thead th {\n",
              "        text-align: right;\n",
              "    }\n",
              "</style>\n",
              "<table border=\"1\" class=\"dataframe\">\n",
              "  <thead>\n",
              "    <tr style=\"text-align: right;\">\n",
              "      <th></th>\n",
              "      <th>id</th>\n",
              "      <th>id_android</th>\n",
              "      <th>speed</th>\n",
              "      <th>distance</th>\n",
              "    </tr>\n",
              "  </thead>\n",
              "  <tbody>\n",
              "    <tr>\n",
              "      <th>0</th>\n",
              "      <td>1</td>\n",
              "      <td>0</td>\n",
              "      <td>19.210586</td>\n",
              "      <td>2.652</td>\n",
              "    </tr>\n",
              "    <tr>\n",
              "      <th>1</th>\n",
              "      <td>2</td>\n",
              "      <td>0</td>\n",
              "      <td>30.848229</td>\n",
              "      <td>5.290</td>\n",
              "    </tr>\n",
              "    <tr>\n",
              "      <th>2</th>\n",
              "      <td>3</td>\n",
              "      <td>1</td>\n",
              "      <td>13.560101</td>\n",
              "      <td>0.918</td>\n",
              "    </tr>\n",
              "    <tr>\n",
              "      <th>3</th>\n",
              "      <td>4</td>\n",
              "      <td>1</td>\n",
              "      <td>19.766679</td>\n",
              "      <td>7.700</td>\n",
              "    </tr>\n",
              "    <tr>\n",
              "      <th>4</th>\n",
              "      <td>8</td>\n",
              "      <td>0</td>\n",
              "      <td>25.807401</td>\n",
              "      <td>3.995</td>\n",
              "    </tr>\n",
              "  </tbody>\n",
              "</table>\n",
              "</div>"
            ],
            "text/plain": [
              "   id  id_android      speed  distance\n",
              "0   1           0  19.210586     2.652\n",
              "1   2           0  30.848229     5.290\n",
              "2   3           1  13.560101     0.918\n",
              "3   4           1  19.766679     7.700\n",
              "4   8           0  25.807401     3.995"
            ]
          },
          "metadata": {
            "tags": []
          },
          "execution_count": 17
        }
      ]
    },
    {
      "cell_type": "code",
      "metadata": {
        "id": "IXidFm3mFmOt",
        "colab_type": "code",
        "outputId": "85395a78-6ce8-402f-856a-eec55b982fa7",
        "colab": {
          "base_uri": "https://localhost:8080/",
          "height": 204
        }
      },
      "source": [
        "#menentukan variable yang akan di clusterkan\n",
        "driver_x = driver.iloc[:, 1:3]\n",
        "driver_x.head()"
      ],
      "execution_count": 0,
      "outputs": [
        {
          "output_type": "execute_result",
          "data": {
            "text/html": [
              "<div>\n",
              "<style scoped>\n",
              "    .dataframe tbody tr th:only-of-type {\n",
              "        vertical-align: middle;\n",
              "    }\n",
              "\n",
              "    .dataframe tbody tr th {\n",
              "        vertical-align: top;\n",
              "    }\n",
              "\n",
              "    .dataframe thead th {\n",
              "        text-align: right;\n",
              "    }\n",
              "</style>\n",
              "<table border=\"1\" class=\"dataframe\">\n",
              "  <thead>\n",
              "    <tr style=\"text-align: right;\">\n",
              "      <th></th>\n",
              "      <th>id_android</th>\n",
              "      <th>speed</th>\n",
              "    </tr>\n",
              "  </thead>\n",
              "  <tbody>\n",
              "    <tr>\n",
              "      <th>0</th>\n",
              "      <td>0</td>\n",
              "      <td>19.210586</td>\n",
              "    </tr>\n",
              "    <tr>\n",
              "      <th>1</th>\n",
              "      <td>0</td>\n",
              "      <td>30.848229</td>\n",
              "    </tr>\n",
              "    <tr>\n",
              "      <th>2</th>\n",
              "      <td>1</td>\n",
              "      <td>13.560101</td>\n",
              "    </tr>\n",
              "    <tr>\n",
              "      <th>3</th>\n",
              "      <td>1</td>\n",
              "      <td>19.766679</td>\n",
              "    </tr>\n",
              "    <tr>\n",
              "      <th>4</th>\n",
              "      <td>0</td>\n",
              "      <td>25.807401</td>\n",
              "    </tr>\n",
              "  </tbody>\n",
              "</table>\n",
              "</div>"
            ],
            "text/plain": [
              "   id_android      speed\n",
              "0           0  19.210586\n",
              "1           0  30.848229\n",
              "2           1  13.560101\n",
              "3           1  19.766679\n",
              "4           0  25.807401"
            ]
          },
          "metadata": {
            "tags": []
          },
          "execution_count": 18
        }
      ]
    },
    {
      "cell_type": "code",
      "metadata": {
        "id": "Nhdg_Kf_F5xt",
        "colab_type": "code",
        "outputId": "6811451e-61d9-490e-9c65-029222f3e1aa",
        "colab": {
          "base_uri": "https://localhost:8080/",
          "height": 269
        }
      },
      "source": [
        "#--- Memvisualkan persebaran data ---\n",
        "plt.scatter(driver.distance, driver.speed, s =10, c = \"c\", marker = \"o\", alpha = 1)\n",
        "plt.show()"
      ],
      "execution_count": 0,
      "outputs": [
        {
          "output_type": "display_data",
          "data": {
            "image/png": "[encoded data removed]",
            "text/plain": [
              "<Figure size 432x288 with 1 Axes>"
            ]
          },
          "metadata": {
            "tags": []
          }
        }
      ]
    },
    {
      "cell_type": "code",
      "metadata": {
        "id": "vVP1QEE4GEhw",
        "colab_type": "code",
        "outputId": "9d40e566-afe5-418e-d0d9-18a54e581b63",
        "colab": {
          "base_uri": "https://localhost:8080/",
          "height": 2788
        }
      },
      "source": [
        "#menentukan nilai k, dengan mengubah data menjadi array\n",
        "x_array =  np.array(driver_x)\n",
        "print(x_array)"
      ],
      "execution_count": 0,
      "outputs": [
        {
          "output_type": "stream",
          "text": [
            "[[0.00000000e+00 1.92105856e+01]\n",
            " [0.00000000e+00 3.08482291e+01]\n",
            " [1.00000000e+00 1.35601009e+01]\n",
            " [1.00000000e+00 1.97666790e+01]\n",
            " [0.00000000e+00 2.58074009e+01]\n",
            " [2.00000000e+00 1.34691332e+00]\n",
            " [3.00000000e+00 3.68507874e+01]\n",
            " [1.00000000e+00 1.74051313e+01]\n",
            " [1.00000000e+00 1.53954361e+01]\n",
            " [1.00000000e+00 8.90272944e+00]\n",
            " [3.00000000e+00 1.50413480e+01]\n",
            " [3.00000000e+00 1.44400981e+01]\n",
            " [1.00000000e+00 1.63567325e+01]\n",
            " [1.00000000e+00 1.75427999e+01]\n",
            " [4.00000000e+00 9.45181557e+00]\n",
            " [4.00000000e+00 9.45181557e+00]\n",
            " [4.00000000e+00 1.62635039e+01]\n",
            " [4.00000000e+00 2.12235944e+01]\n",
            " [4.00000000e+00 1.94236545e+01]\n",
            " [4.00000000e+00 2.07996291e+01]\n",
            " [4.00000000e+00 8.72437242e+00]\n",
            " [4.00000000e+00 8.72437242e+00]\n",
            " [3.00000000e+00 8.68613764e+00]\n",
            " [3.00000000e+00 5.49959473e+01]\n",
            " [3.00000000e+00 5.49959473e+01]\n",
            " [1.00000000e+00 1.26110448e+01]\n",
            " [3.00000000e+00 1.45342872e+01]\n",
            " [3.00000000e+00 1.02882267e+01]\n",
            " [3.00000000e+00 1.83281891e+01]\n",
            " [1.00000000e+00 1.71776350e+01]\n",
            " [1.00000000e+00 1.70978234e+01]\n",
            " [1.00000000e+00 3.25207021e+01]\n",
            " [1.00000000e+00 1.99348099e+01]\n",
            " [1.00000000e+00 2.15138018e+01]\n",
            " [1.00000000e+00 2.75257703e+01]\n",
            " [1.00000000e+00 2.81045207e+01]\n",
            " [3.00000000e+00 2.23224625e+01]\n",
            " [3.00000000e+00 2.23224625e+01]\n",
            " [3.00000000e+00 3.23773040e+01]\n",
            " [1.00000000e+00 2.23779245e+01]\n",
            " [1.00000000e+00 2.49082559e+01]\n",
            " [5.00000000e+00 3.71409017e+01]\n",
            " [5.00000000e+00 3.71409017e+01]\n",
            " [2.00000000e+00 7.29267545e+01]\n",
            " [1.00000000e+00 6.63753526e-02]\n",
            " [1.00000000e+00 8.33281351e+01]\n",
            " [1.00000000e+00 8.33281351e+01]\n",
            " [6.00000000e+00 9.62060288e+01]\n",
            " [1.00000000e+00 3.23767476e+00]\n",
            " [1.00000000e+00 5.82100412e-01]\n",
            " [1.00000000e+00 1.38683788e+00]\n",
            " [1.00000000e+00 1.80865138e-01]\n",
            " [1.00000000e+00 1.87306515e-01]\n",
            " [1.00000000e+00 2.74035168e+00]\n",
            " [1.00000000e+00 1.55177191e+00]\n",
            " [1.00000000e+00 8.91614215e-01]\n",
            " [1.00000000e+00 1.26197446e+00]\n",
            " [7.00000000e+00 1.98334721e+01]\n",
            " [7.00000000e+00 1.68934215e+01]\n",
            " [7.00000000e+00 2.05827023e+01]\n",
            " [8.00000000e+00 3.07454686e-01]\n",
            " [8.00000000e+00 3.07454686e-01]\n",
            " [9.00000000e+00 2.16717437e+01]\n",
            " [9.00000000e+00 2.16717437e+01]\n",
            " [9.00000000e+00 3.32011780e+01]\n",
            " [9.00000000e+00 3.32011780e+01]\n",
            " [9.00000000e+00 2.68955892e+01]\n",
            " [9.00000000e+00 2.68955892e+01]\n",
            " [9.00000000e+00 3.10853313e+01]\n",
            " [9.00000000e+00 3.10853313e+01]\n",
            " [8.00000000e+00 4.61929548e-01]\n",
            " [8.00000000e+00 7.77134962e-01]\n",
            " [8.00000000e+00 1.28318370e+00]\n",
            " [8.00000000e+00 1.48769113e+00]\n",
            " [8.00000000e+00 2.30511917e+01]\n",
            " [7.00000000e+00 2.12391802e+01]\n",
            " [7.00000000e+00 2.13008272e+01]\n",
            " [7.00000000e+00 2.44305935e+01]\n",
            " [1.00000000e+00 6.37205735e-01]\n",
            " [3.00000000e+00 1.79277713e+01]\n",
            " [1.00000000e+01 1.96122416e-01]\n",
            " [1.00000000e+01 3.58392609e-02]\n",
            " [1.00000000e+00 1.03398755e+00]\n",
            " [1.00000000e+00 8.98564792e+00]\n",
            " [1.00000000e+00 7.27684347e-01]\n",
            " [1.00000000e+00 3.45644242e+00]\n",
            " [1.00000000e+00 1.58068057e+00]\n",
            " [1.00000000e+00 2.54912374e-01]\n",
            " [1.00000000e+00 9.19540230e-01]\n",
            " [1.00000000e+00 1.02290890e+00]\n",
            " [1.00000000e+00 6.01222486e-02]\n",
            " [1.00000000e+00 6.69367156e-02]\n",
            " [1.00000000e+00 1.34687985e+01]\n",
            " [1.00000000e+01 1.25918420e-01]\n",
            " [1.00000000e+01 2.37848768e+01]\n",
            " [1.00000000e+01 2.40030044e+01]\n",
            " [1.00000000e+01 2.11954933e+01]\n",
            " [1.00000000e+01 2.11954933e+01]\n",
            " [1.00000000e+01 2.03702469e+01]\n",
            " [1.10000000e+01 2.87800873e+00]\n",
            " [1.00000000e+01 1.87935954e+01]\n",
            " [1.00000000e+01 1.87935954e+01]\n",
            " [1.00000000e+01 1.49003918e+01]\n",
            " [1.00000000e+01 1.49003918e+01]\n",
            " [1.00000000e+01 2.55547122e+01]\n",
            " [1.00000000e+01 6.76963371e+00]\n",
            " [1.00000000e+01 2.24681840e+01]\n",
            " [1.00000000e+00 1.35322194e+01]\n",
            " [1.00000000e+01 1.79720982e+01]\n",
            " [1.20000000e+01 1.47120528e+01]\n",
            " [1.00000000e+01 2.95409544e+01]\n",
            " [1.00000000e+01 1.56202167e+01]\n",
            " [1.00000000e+00 9.77939319e-03]\n",
            " [1.00000000e+00 1.67788952e+01]\n",
            " [1.00000000e+00 4.87144790e+00]\n",
            " [1.00000000e+00 4.87144790e+00]\n",
            " [1.00000000e+00 3.66662787e-01]\n",
            " [1.00000000e+00 5.59217096e-01]\n",
            " [1.00000000e+00 4.68039003e+00]\n",
            " [1.00000000e+00 1.60135225e+00]\n",
            " [1.00000000e+01 1.87052756e+01]\n",
            " [1.00000000e+00 1.83416125e+00]\n",
            " [1.00000000e+01 1.35582998e+01]\n",
            " [1.30000000e+01 1.02032140e-01]\n",
            " [1.00000000e+01 1.77183941e-01]\n",
            " [1.30000000e+01 2.59576025e+01]\n",
            " [1.30000000e+01 2.59576025e+01]\n",
            " [1.00000000e+00 1.41409380e+00]\n",
            " [1.00000000e+00 1.66853680e+01]\n",
            " [1.00000000e+01 1.09412891e+01]\n",
            " [1.20000000e+01 3.03970446e+01]\n",
            " [1.40000000e+01 6.75973582e+00]\n",
            " [1.50000000e+01 2.56549384e+01]\n",
            " [1.50000000e+01 1.76544921e+01]\n",
            " [1.00000000e+01 2.45047380e+01]\n",
            " [1.00000000e+00 1.15665726e+01]\n",
            " [1.60000000e+01 1.46308964e+01]\n",
            " [1.70000000e+01 3.98475672e-01]\n",
            " [1.60000000e+01 9.07685861e+00]\n",
            " [1.80000000e+01 2.54513326e+01]\n",
            " [1.80000000e+01 2.54513326e+01]\n",
            " [1.00000000e+00 1.93767939e+01]\n",
            " [1.00000000e+01 7.13806788e+00]\n",
            " [1.00000000e+00 1.78318709e+00]\n",
            " [1.90000000e+01 1.72012210e-01]\n",
            " [2.00000000e+01 1.31161193e+00]\n",
            " [2.10000000e+01 2.31993919e+01]\n",
            " [2.10000000e+01 2.35029280e+01]\n",
            " [2.20000000e+01 1.44514212e+00]\n",
            " [2.30000000e+01 5.36246276e-01]\n",
            " [2.40000000e+01 3.66470717e+01]\n",
            " [2.40000000e+01 3.13673368e+01]\n",
            " [2.40000000e+01 2.55623968e+01]\n",
            " [2.40000000e+01 3.80281074e+01]\n",
            " [2.40000000e+01 2.81424374e+01]\n",
            " [2.40000000e+01 2.18120695e+01]\n",
            " [2.40000000e+01 2.38285146e+01]\n",
            " [2.40000000e+01 2.83366193e+01]\n",
            " [2.40000000e+01 3.00517319e+01]\n",
            " [2.40000000e+01 3.01737884e+01]\n",
            " [2.50000000e+01 1.15377219e+00]\n",
            " [2.60000000e+01 8.43222986e-01]\n",
            " [2.70000000e+01 1.37299771e+00]]\n"
          ],
          "name": "stdout"
        }
      ]
    },
    {
      "cell_type": "code",
      "metadata": {
        "id": "QGNHQx9sGOXL",
        "colab_type": "code",
        "outputId": "1e70eaa8-9ed8-418e-bcf1-a07548104f26",
        "colab": {
          "base_uri": "https://localhost:8080/",
          "height": 2788
        }
      },
      "source": [
        "#menstandarkan ukuran variable\n",
        "scaler = MinMaxScaler()\n",
        "x_scaled = scaler.fit_transform(x_array)\n",
        "x_scaled"
      ],
      "execution_count": 0,
      "outputs": [
        {
          "output_type": "execute_result",
          "data": {
            "text/plain": [
              "array([[0.00000000e+00, 1.99600362e-01],\n",
              "       [0.00000000e+00, 3.20578504e-01],\n",
              "       [3.70370370e-02, 1.40861225e-01],\n",
              "       [3.70370370e-02, 2.05381184e-01],\n",
              "       [0.00000000e+00, 2.68176999e-01],\n",
              "       [7.40740741e-02, 1.39000630e-02],\n",
              "       [1.11111111e-01, 3.82977592e-01],\n",
              "       [3.70370370e-02, 1.80831914e-01],\n",
              "       [3.70370370e-02, 1.59940297e-01],\n",
              "       [3.70370370e-02, 9.24459124e-02],\n",
              "       [1.11111111e-01, 1.56259404e-01],\n",
              "       [1.11111111e-01, 1.50009162e-01],\n",
              "       [3.70370370e-02, 1.69933373e-01],\n",
              "       [3.70370370e-02, 1.82263037e-01],\n",
              "       [1.48148148e-01, 9.81538910e-02],\n",
              "       [1.48148148e-01, 9.81538910e-02],\n",
              "       [1.48148148e-01, 1.68964223e-01],\n",
              "       [1.48148148e-01, 2.20526426e-01],\n",
              "       [1.48148148e-01, 2.01815302e-01],\n",
              "       [1.48148148e-01, 2.16119130e-01],\n",
              "       [1.48148148e-01, 9.05918170e-02],\n",
              "       [1.48148148e-01, 9.05918170e-02],\n",
              "       [1.11111111e-01, 9.01943506e-02],\n",
              "       [1.11111111e-01, 5.71604072e-01],\n",
              "       [1.11111111e-01, 5.71604072e-01],\n",
              "       [3.70370370e-02, 1.30995392e-01],\n",
              "       [1.11111111e-01, 1.50988296e-01],\n",
              "       [1.11111111e-01, 1.06848732e-01],\n",
              "       [1.11111111e-01, 1.90427484e-01],\n",
              "       [3.70370370e-02, 1.78466996e-01],\n",
              "       [3.70370370e-02, 1.77637320e-01],\n",
              "       [3.70370370e-02, 3.37964556e-01],\n",
              "       [3.70370370e-02, 2.07128974e-01],\n",
              "       [3.70370370e-02, 2.23543252e-01],\n",
              "       [3.70370370e-02, 2.86040163e-01],\n",
              "       [3.70370370e-02, 2.92056514e-01],\n",
              "       [1.11111111e-01, 2.31949616e-01],\n",
              "       [1.11111111e-01, 2.31949616e-01],\n",
              "       [1.11111111e-01, 3.36473873e-01],\n",
              "       [3.70370370e-02, 2.32526167e-01],\n",
              "       [3.70370370e-02, 2.58830013e-01],\n",
              "       [1.85185185e-01, 3.85993452e-01],\n",
              "       [1.85185185e-01, 3.85993452e-01],\n",
              "       [7.40740741e-02, 7.58002267e-01],\n",
              "       [3.70370370e-02, 5.88338524e-04],\n",
              "       [3.70370370e-02, 8.66128941e-01],\n",
              "       [3.70370370e-02, 8.66128941e-01],\n",
              "       [2.22222222e-01, 1.00000000e+00],\n",
              "       [3.70370370e-02, 3.35553141e-02],\n",
              "       [3.70370370e-02, 5.94951490e-03],\n",
              "       [3.70370370e-02, 1.43150954e-02],\n",
              "       [3.70370370e-02, 1.77850744e-03],\n",
              "       [3.70370370e-02, 1.84546823e-03],\n",
              "       [3.70370370e-02, 2.83854340e-02],\n",
              "       [3.70370370e-02, 1.60296532e-02],\n",
              "       [3.70370370e-02, 9.16703953e-03],\n",
              "       [3.70370370e-02, 1.30170883e-02],\n",
              "       [2.59259259e-01, 2.06075526e-01],\n",
              "       [2.59259259e-01, 1.75512478e-01],\n",
              "       [2.59259259e-01, 2.13864086e-01],\n",
              "       [2.96296296e-01, 3.09445841e-03],\n",
              "       [2.96296296e-01, 3.09445841e-03],\n",
              "       [3.33333333e-01, 2.25185124e-01],\n",
              "       [3.33333333e-01, 2.25185124e-01],\n",
              "       [3.33333333e-01, 3.45038385e-01],\n",
              "       [3.33333333e-01, 3.45038385e-01],\n",
              "       [3.33333333e-01, 2.79489169e-01],\n",
              "       [3.33333333e-01, 2.79489169e-01],\n",
              "       [3.33333333e-01, 3.23043280e-01],\n",
              "       [3.33333333e-01, 3.23043280e-01],\n",
              "       [2.96296296e-01, 4.70028882e-03],\n",
              "       [2.96296296e-01, 7.97698012e-03],\n",
              "       [2.96296296e-01, 1.32375671e-02],\n",
              "       [2.96296296e-01, 1.53635068e-02],\n",
              "       [2.96296296e-01, 2.39525059e-01],\n",
              "       [2.59259259e-01, 2.20688446e-01],\n",
              "       [2.59259259e-01, 2.21329292e-01],\n",
              "       [2.59259259e-01, 2.53864514e-01],\n",
              "       [3.70370370e-02, 6.52235763e-03],\n",
              "       [1.11111111e-01, 1.86264974e-01],\n",
              "       [3.70370370e-01, 1.93711318e-03],\n",
              "       [3.70370370e-01, 2.70903158e-04],\n",
              "       [3.70370370e-02, 1.06470696e-02],\n",
              "       [3.70370370e-02, 9.33078845e-02],\n",
              "       [3.70370370e-02, 7.46292041e-03],\n",
              "       [3.70370370e-02, 3.58294949e-02],\n",
              "       [3.70370370e-02, 1.63301707e-02],\n",
              "       [3.70370370e-02, 2.54825923e-03],\n",
              "       [3.70370370e-02, 9.45734207e-03],\n",
              "       [3.70370370e-02, 1.05319023e-02],\n",
              "       [3.70370370e-02, 5.23334908e-04],\n",
              "       [3.70370370e-02, 5.94174126e-04],\n",
              "       [3.70370370e-02, 1.39912099e-01],\n",
              "       [3.70370370e-01, 1.20731346e-03],\n",
              "       [3.70370370e-01, 2.47152020e-01],\n",
              "       [3.70370370e-01, 2.49419548e-01],\n",
              "       [3.70370370e-01, 2.20234303e-01],\n",
              "       [3.70370370e-01, 2.20234303e-01],\n",
              "       [3.70370370e-01, 2.11655523e-01],\n",
              "       [4.07407407e-01, 2.98164362e-02],\n",
              "       [3.70370370e-01, 1.95265576e-01],\n",
              "       [3.70370370e-01, 1.95265576e-01],\n",
              "       [3.70370370e-01, 1.54794106e-01],\n",
              "       [3.70370370e-01, 1.54794106e-01],\n",
              "       [3.70370370e-01, 2.65550195e-01],\n",
              "       [3.70370370e-01, 7.02714956e-02],\n",
              "       [3.70370370e-01, 2.33464452e-01],\n",
              "       [3.70370370e-02, 1.40571385e-01],\n",
              "       [3.70370370e-01, 1.86725771e-01],\n",
              "       [4.44444444e-01, 1.52836244e-01],\n",
              "       [3.70370370e-01, 3.06988840e-01],\n",
              "       [3.70370370e-01, 1.62276985e-01],\n",
              "       [3.70370370e-02, 0.00000000e+00],\n",
              "       [3.70370370e-02, 1.74321929e-01],\n",
              "       [3.70370370e-02, 5.05390651e-02],\n",
              "       [3.70370370e-02, 5.05390651e-02],\n",
              "       [3.70370370e-02, 3.70995123e-03],\n",
              "       [3.70370370e-02, 5.71163331e-03],\n",
              "       [3.70370370e-02, 4.85529391e-02],\n",
              "       [3.70370370e-02, 1.65450615e-02],\n",
              "       [3.70370370e-01, 1.94347455e-01],\n",
              "       [3.70370370e-02, 1.89652078e-02],\n",
              "       [3.70370370e-01, 1.40842502e-01],\n",
              "       [4.81481481e-01, 9.59005652e-04],\n",
              "       [3.70370370e-01, 1.74023986e-03],\n",
              "       [4.81481481e-01, 2.69738408e-01],\n",
              "       [4.81481481e-01, 2.69738408e-01],\n",
              "       [3.70370370e-02, 1.45984320e-02],\n",
              "       [3.70370370e-02, 1.73349676e-01],\n",
              "       [3.70370370e-01, 1.13637587e-01],\n",
              "       [4.44444444e-01, 3.15888254e-01],\n",
              "       [5.18518519e-01, 7.01686029e-02],\n",
              "       [5.55555556e-01, 2.66592088e-01],\n",
              "       [5.55555556e-01, 1.83424124e-01],\n",
              "       [3.70370370e-01, 2.54635277e-01],\n",
              "       [3.70370370e-02, 1.20137670e-01],\n",
              "       [5.92592593e-01, 1.51992589e-01],\n",
              "       [6.29629630e-01, 4.04065940e-03],\n",
              "       [5.92592593e-01, 9.42560575e-02],\n",
              "       [6.66666667e-01, 2.64475521e-01],\n",
              "       [6.66666667e-01, 2.64475521e-01],\n",
              "       [3.70370370e-02, 2.01328167e-01],\n",
              "       [3.70370370e-01, 7.41015219e-02],\n",
              "       [3.70370370e-02, 1.84353102e-02],\n",
              "       [7.03703704e-01, 1.68647757e-03],\n",
              "       [7.40740741e-01, 1.35330904e-02],\n",
              "       [7.77777778e-01, 2.41065661e-01],\n",
              "       [7.77777778e-01, 2.44221046e-01],\n",
              "       [8.14814815e-01, 1.49211922e-02],\n",
              "       [8.51851852e-01, 5.47284209e-03],\n",
              "       [8.88888889e-01, 3.80859883e-01],\n",
              "       [8.88888889e-01, 3.25974844e-01],\n",
              "       [8.88888889e-01, 2.65630080e-01],\n",
              "       [8.88888889e-01, 3.95216323e-01],\n",
              "       [8.88888889e-01, 2.92450674e-01],\n",
              "       [8.88888889e-01, 2.26643869e-01],\n",
              "       [8.88888889e-01, 2.47605654e-01],\n",
              "       [8.88888889e-01, 2.94469276e-01],\n",
              "       [8.88888889e-01, 3.12298584e-01],\n",
              "       [8.88888889e-01, 3.13567412e-01],\n",
              "       [9.25925926e-01, 1.18922807e-02],\n",
              "       [9.62962963e-01, 8.66399259e-03],\n",
              "       [1.00000000e+00, 1.41712211e-02]])"
            ]
          },
          "metadata": {
            "tags": []
          },
          "execution_count": 22
        }
      ]
    },
    {
      "cell_type": "code",
      "metadata": {
        "id": "-njQpmCZGUPQ",
        "colab_type": "code",
        "outputId": "c1019707-4d33-4726-e3fc-f281cc494fcf",
        "colab": {
          "base_uri": "https://localhost:8080/",
          "height": 68
        }
      },
      "source": [
        "#--- Menentukan dan mengkonfigurasi fungsi kmeans ---\n",
        "kmeans = KMeans(n_clusters = 3, random_state=123)\n",
        "#--- Menentukan kluster dari data ---\n",
        "kmeans.fit(x_scaled)"
      ],
      "execution_count": 0,
      "outputs": [
        {
          "output_type": "execute_result",
          "data": {
            "text/plain": [
              "KMeans(algorithm='auto', copy_x=True, init='k-means++', max_iter=300,\n",
              "    n_clusters=3, n_init=10, n_jobs=None, precompute_distances='auto',\n",
              "    random_state=123, tol=0.0001, verbose=0)"
            ]
          },
          "metadata": {
            "tags": []
          },
          "execution_count": 23
        }
      ]
    },
    {
      "cell_type": "code",
      "metadata": {
        "id": "XJks95XxGc7U",
        "colab_type": "code",
        "outputId": "1759fe93-8799-4e9a-893a-78a66ce5c121",
        "colab": {
          "base_uri": "https://localhost:8080/",
          "height": 68
        }
      },
      "source": [
        "#--- Menampilkan pusat cluster ---\n",
        "print(kmeans.cluster_centers_)"
      ],
      "execution_count": 0,
      "outputs": [
        {
          "output_type": "stream",
          "text": [
            "[[0.32745444 0.24013088]\n",
            " [0.05750487 0.11540774]\n",
            " [0.81635802 0.18289936]]\n"
          ],
          "name": "stdout"
        }
      ]
    },
    {
      "cell_type": "code",
      "metadata": {
        "id": "rTD6ReQ8GjiL",
        "colab_type": "code",
        "outputId": "78ed5208-48c9-4bd0-c230-eda14d4fa9dc",
        "colab": {
          "base_uri": "https://localhost:8080/",
          "height": 102
        }
      },
      "source": [
        "#--- Menampilkan Hasil Kluster ---\n",
        "print(kmeans.labels_)\n",
        "#--- Menambahkan Kolom \"kluster\" Dalam Data Frame Driver ---\n",
        "driver[\"kluster\"] = kmeans.labels_"
      ],
      "execution_count": 0,
      "outputs": [
        {
          "output_type": "stream",
          "text": [
            "[1 1 1 1 1 1 0 1 1 1 1 1 1 1 1 1 1 1 1 1 1 1 1 0 0 1 1 1 1 1 1 1 1 1 1 1 1\n",
            " 1 1 1 1 0 0 0 1 0 0 0 1 1 1 1 1 1 1 1 1 0 0 0 0 0 0 0 0 0 0 0 0 0 0 0 0 0\n",
            " 0 0 0 0 1 1 0 0 1 1 1 1 1 1 1 1 1 1 1 0 0 0 0 0 0 0 0 0 0 0 0 0 0 1 0 0 0\n",
            " 0 1 1 1 1 1 1 1 1 0 1 0 0 0 0 0 1 1 0 0 0 0 0 0 1 2 2 2 2 2 1 0 1 2 2 2 2\n",
            " 2 2 2 2 2 2 2 2 2 2 2 2 2 2 2]\n"
          ],
          "name": "stdout"
        }
      ]
    },
    {
      "cell_type": "code",
      "metadata": {
        "id": "1WCAfsT9GpS8",
        "colab_type": "code",
        "outputId": "5a2d1fe5-6bda-46b0-ad12-f9e1581ce064",
        "colab": {
          "base_uri": "https://localhost:8080/",
          "height": 281
        }
      },
      "source": [
        "#--- Memvisualkan hasil kluster ---\n",
        "output = plt.scatter(x_scaled[:,0], x_scaled[:,1], s = 100, c = driver.kluster, marker = \"o\", alpha = 1, )\n",
        "centers = kmeans.cluster_centers_\n",
        "plt.scatter(centers[:,0], centers[:,1], c='red', s=200, alpha=1 , marker=\"s\");\n",
        "plt.title(\"Hasil Klustering K-Means\")\n",
        "plt.colorbar (output)\n",
        "plt.show()"
      ],
      "execution_count": 0,
      "outputs": [
        {
          "output_type": "display_data",
          "data": {
            "image/png": "[encoded data removed]",
            "text/plain": [
              "<Figure size 432x288 with 2 Axes>"
            ]
          },
          "metadata": {
            "tags": []
          }
        }
      ]
    },
    {
      "cell_type": "code",
      "metadata": {
        "id": "TgI3lJnTGu0I",
        "colab_type": "code",
        "colab": {}
      },
      "source": [
        ""
      ],
      "execution_count": 0,
      "outputs": []
    }
  ]
}